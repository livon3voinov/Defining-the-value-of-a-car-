{
 "cells": [
  {
   "cell_type": "markdown",
   "metadata": {},
   "source": [
    "# Определение стоимости автомобилей"
   ]
  },
  {
   "cell_type": "markdown",
   "metadata": {},
   "source": [
    "Сервис по продаже автомобилей с пробегом «Не бит, не крашен» разрабатывает приложение для привлечения новых клиентов. В нём можно быстро узнать рыночную стоимость своего автомобиля. В вашем распоряжении исторические данные: технические характеристики, комплектации и цены автомобилей. Вам нужно построить модель для определения стоимости. \n",
    "\n",
    "Заказчику важны:\n",
    "\n",
    "- качество предсказания;\n",
    "- скорость предсказания;\n",
    "- время обучения."
   ]
  },
  {
   "cell_type": "markdown",
   "metadata": {},
   "source": [
    "В данном нам файле присутствуют такие столбцы, как. \n",
    "- DateCrawled — дата скачивания анкеты из базы\n",
    "- VehicleType — тип автомобильного кузова\n",
    "- RegistrationYear — год регистрации автомобиля\n",
    "- Gearbox — тип коробки передач\n",
    "- Power — мощность (л. с.)\n",
    "- Model — модель автомобиля\n",
    "- Kilometer — пробег (км)\n",
    "- RegistrationMonth — месяц регистрации автомобиля\n",
    "- FuelType — тип топлива\n",
    "- Brand — марка автомобиля\n",
    "- Repaired — была машина в ремонте или нет\n",
    "- DateCreated — дата создания анкеты\n",
    "- NumberOfPictures — количество фотографий автомобиля\n",
    "- PostalCode — почтовый индекс владельца анкеты (пользователя)\n",
    "- LastSeen — дата последней активности пользователя\n",
    "- Price — цена (евро)"
   ]
  },
  {
   "cell_type": "markdown",
   "metadata": {},
   "source": [
    "# обновление системы, установка библиотек"
   ]
  },
  {
   "cell_type": "code",
   "execution_count": 1,
   "metadata": {},
   "outputs": [
    {
     "name": "stdout",
     "output_type": "stream",
     "text": [
      "Requirement already satisfied: scikit-learn==1.4.2 in /opt/conda/lib/python3.9/site-packages (1.4.2)\n",
      "Requirement already satisfied: threadpoolctl>=2.0.0 in /opt/conda/lib/python3.9/site-packages (from scikit-learn==1.4.2) (3.1.0)\n",
      "Requirement already satisfied: joblib>=1.2.0 in /opt/conda/lib/python3.9/site-packages (from scikit-learn==1.4.2) (1.4.2)\n",
      "Requirement already satisfied: scipy>=1.6.0 in /opt/conda/lib/python3.9/site-packages (from scikit-learn==1.4.2) (1.9.1)\n",
      "Requirement already satisfied: numpy>=1.19.5 in /opt/conda/lib/python3.9/site-packages (from scikit-learn==1.4.2) (1.21.1)\n"
     ]
    }
   ],
   "source": [
    "!pip install scikit-learn==1.4.2\n",
    "!pip install matplotlib==3.5.0 -q\n",
    "!pip install phik -q\n",
    "!pip install shap -q"
   ]
  },
  {
   "cell_type": "code",
   "execution_count": 2,
   "metadata": {
    "scrolled": true
   },
   "outputs": [
    {
     "name": "stdout",
     "output_type": "stream",
     "text": [
      "Requirement already satisfied: lightgbm in /opt/conda/lib/python3.9/site-packages (3.3.1)\n",
      "Requirement already satisfied: scipy in /opt/conda/lib/python3.9/site-packages (from lightgbm) (1.9.1)\n",
      "Requirement already satisfied: scikit-learn!=0.22.0 in /opt/conda/lib/python3.9/site-packages (from lightgbm) (1.4.2)\n",
      "Requirement already satisfied: wheel in /opt/conda/lib/python3.9/site-packages (from lightgbm) (0.36.2)\n",
      "Requirement already satisfied: numpy in /opt/conda/lib/python3.9/site-packages (from lightgbm) (1.21.1)\n",
      "Requirement already satisfied: joblib>=1.2.0 in /opt/conda/lib/python3.9/site-packages (from scikit-learn!=0.22.0->lightgbm) (1.4.2)\n",
      "Requirement already satisfied: threadpoolctl>=2.0.0 in /opt/conda/lib/python3.9/site-packages (from scikit-learn!=0.22.0->lightgbm) (3.1.0)\n"
     ]
    }
   ],
   "source": [
    "!pip install lightgbm\n"
   ]
  },
  {
   "cell_type": "markdown",
   "metadata": {},
   "source": [
    "# загрузка библиотек "
   ]
  },
  {
   "cell_type": "code",
   "execution_count": 3,
   "metadata": {},
   "outputs": [],
   "source": [
    "import pandas as pd\n",
    "import numpy as np \n",
    "import lightgbm as lgb\n",
    "import seaborn as sns\n",
    "\n",
    "import pyspark \n",
    "\n",
    "from pyspark.sql import SparkSession\n",
    "from pyspark.sql.types import *\n",
    "import pyspark.sql.functions as F\n",
    "from pyspark.ml.feature import StringIndexer, VectorAssembler, StandardScaler\n",
    "from pyspark.ml.classification import LogisticRegression\n",
    "from pyspark.ml.evaluation import BinaryClassificationEvaluator, MulticlassClassificationEvaluator, RegressionEvaluator\n",
    "from pyspark.mllib.evaluation import BinaryClassificationMetrics\n",
    "\n",
    "from sklearn.model_selection import train_test_split\n",
    "from sklearn.metrics import mean_squared_error\n",
    "from sklearn.pipeline import Pipeline\n",
    "from sklearn.ensemble import RandomForestClassifier\n",
    "\n",
    "from sklearn.datasets import load_iris\n",
    "from sklearn.preprocessing import StandardScaler\n",
    "\n",
    "import matplotlib.pyplot as plt\n",
    "import phik\n",
    "\n",
    "\n",
    "RANDOM_SEED = 27\n"
   ]
  },
  {
   "cell_type": "code",
   "execution_count": null,
   "metadata": {},
   "outputs": [],
   "source": []
  },
  {
   "cell_type": "markdown",
   "metadata": {},
   "source": [
    "## Изучение и подготовка данных."
   ]
  },
  {
   "cell_type": "markdown",
   "metadata": {},
   "source": [
    "# проверка версий "
   ]
  },
  {
   "cell_type": "code",
   "execution_count": 4,
   "metadata": {},
   "outputs": [
    {
     "name": "stdout",
     "output_type": "stream",
     "text": [
      "3.3.1\n"
     ]
    }
   ],
   "source": [
    "import lightgbm\n",
    "print(lightgbm.__version__)"
   ]
  },
  {
   "cell_type": "markdown",
   "metadata": {},
   "source": [
    "# загрузка файла "
   ]
  },
  {
   "cell_type": "code",
   "execution_count": 5,
   "metadata": {},
   "outputs": [],
   "source": [
    "data = pd.read_csv('/datasets/autos.csv')"
   ]
  },
  {
   "cell_type": "code",
   "execution_count": 6,
   "metadata": {},
   "outputs": [
    {
     "name": "stdout",
     "output_type": "stream",
     "text": [
      "<class 'pandas.core.frame.DataFrame'>\n",
      "RangeIndex: 354369 entries, 0 to 354368\n",
      "Data columns (total 16 columns):\n",
      " #   Column             Non-Null Count   Dtype \n",
      "---  ------             --------------   ----- \n",
      " 0   DateCrawled        354369 non-null  object\n",
      " 1   Price              354369 non-null  int64 \n",
      " 2   VehicleType        316879 non-null  object\n",
      " 3   RegistrationYear   354369 non-null  int64 \n",
      " 4   Gearbox            334536 non-null  object\n",
      " 5   Power              354369 non-null  int64 \n",
      " 6   Model              334664 non-null  object\n",
      " 7   Kilometer          354369 non-null  int64 \n",
      " 8   RegistrationMonth  354369 non-null  int64 \n",
      " 9   FuelType           321474 non-null  object\n",
      " 10  Brand              354369 non-null  object\n",
      " 11  Repaired           283215 non-null  object\n",
      " 12  DateCreated        354369 non-null  object\n",
      " 13  NumberOfPictures   354369 non-null  int64 \n",
      " 14  PostalCode         354369 non-null  int64 \n",
      " 15  LastSeen           354369 non-null  object\n",
      "dtypes: int64(7), object(9)\n",
      "memory usage: 43.3+ MB\n",
      "\n",
      "сумма полных дублекатов 4\n",
      "\n"
     ]
    },
    {
     "data": {
      "text/html": [
       "<div>\n",
       "<style scoped>\n",
       "    .dataframe tbody tr th:only-of-type {\n",
       "        vertical-align: middle;\n",
       "    }\n",
       "\n",
       "    .dataframe tbody tr th {\n",
       "        vertical-align: top;\n",
       "    }\n",
       "\n",
       "    .dataframe thead th {\n",
       "        text-align: right;\n",
       "    }\n",
       "</style>\n",
       "<table border=\"1\" class=\"dataframe\">\n",
       "  <thead>\n",
       "    <tr style=\"text-align: right;\">\n",
       "      <th></th>\n",
       "      <th>DateCrawled</th>\n",
       "      <th>Price</th>\n",
       "      <th>VehicleType</th>\n",
       "      <th>RegistrationYear</th>\n",
       "      <th>Gearbox</th>\n",
       "      <th>Power</th>\n",
       "      <th>Model</th>\n",
       "      <th>Kilometer</th>\n",
       "      <th>RegistrationMonth</th>\n",
       "      <th>FuelType</th>\n",
       "      <th>Brand</th>\n",
       "      <th>Repaired</th>\n",
       "      <th>DateCreated</th>\n",
       "      <th>NumberOfPictures</th>\n",
       "      <th>PostalCode</th>\n",
       "      <th>LastSeen</th>\n",
       "    </tr>\n",
       "  </thead>\n",
       "  <tbody>\n",
       "    <tr>\n",
       "      <th>0</th>\n",
       "      <td>2016-03-24 11:52:17</td>\n",
       "      <td>480</td>\n",
       "      <td>NaN</td>\n",
       "      <td>1993</td>\n",
       "      <td>manual</td>\n",
       "      <td>0</td>\n",
       "      <td>golf</td>\n",
       "      <td>150000</td>\n",
       "      <td>0</td>\n",
       "      <td>petrol</td>\n",
       "      <td>volkswagen</td>\n",
       "      <td>NaN</td>\n",
       "      <td>2016-03-24 00:00:00</td>\n",
       "      <td>0</td>\n",
       "      <td>70435</td>\n",
       "      <td>2016-04-07 03:16:57</td>\n",
       "    </tr>\n",
       "    <tr>\n",
       "      <th>1</th>\n",
       "      <td>2016-03-24 10:58:45</td>\n",
       "      <td>18300</td>\n",
       "      <td>coupe</td>\n",
       "      <td>2011</td>\n",
       "      <td>manual</td>\n",
       "      <td>190</td>\n",
       "      <td>NaN</td>\n",
       "      <td>125000</td>\n",
       "      <td>5</td>\n",
       "      <td>gasoline</td>\n",
       "      <td>audi</td>\n",
       "      <td>yes</td>\n",
       "      <td>2016-03-24 00:00:00</td>\n",
       "      <td>0</td>\n",
       "      <td>66954</td>\n",
       "      <td>2016-04-07 01:46:50</td>\n",
       "    </tr>\n",
       "    <tr>\n",
       "      <th>2</th>\n",
       "      <td>2016-03-14 12:52:21</td>\n",
       "      <td>9800</td>\n",
       "      <td>suv</td>\n",
       "      <td>2004</td>\n",
       "      <td>auto</td>\n",
       "      <td>163</td>\n",
       "      <td>grand</td>\n",
       "      <td>125000</td>\n",
       "      <td>8</td>\n",
       "      <td>gasoline</td>\n",
       "      <td>jeep</td>\n",
       "      <td>NaN</td>\n",
       "      <td>2016-03-14 00:00:00</td>\n",
       "      <td>0</td>\n",
       "      <td>90480</td>\n",
       "      <td>2016-04-05 12:47:46</td>\n",
       "    </tr>\n",
       "    <tr>\n",
       "      <th>3</th>\n",
       "      <td>2016-03-17 16:54:04</td>\n",
       "      <td>1500</td>\n",
       "      <td>small</td>\n",
       "      <td>2001</td>\n",
       "      <td>manual</td>\n",
       "      <td>75</td>\n",
       "      <td>golf</td>\n",
       "      <td>150000</td>\n",
       "      <td>6</td>\n",
       "      <td>petrol</td>\n",
       "      <td>volkswagen</td>\n",
       "      <td>no</td>\n",
       "      <td>2016-03-17 00:00:00</td>\n",
       "      <td>0</td>\n",
       "      <td>91074</td>\n",
       "      <td>2016-03-17 17:40:17</td>\n",
       "    </tr>\n",
       "    <tr>\n",
       "      <th>4</th>\n",
       "      <td>2016-03-31 17:25:20</td>\n",
       "      <td>3600</td>\n",
       "      <td>small</td>\n",
       "      <td>2008</td>\n",
       "      <td>manual</td>\n",
       "      <td>69</td>\n",
       "      <td>fabia</td>\n",
       "      <td>90000</td>\n",
       "      <td>7</td>\n",
       "      <td>gasoline</td>\n",
       "      <td>skoda</td>\n",
       "      <td>no</td>\n",
       "      <td>2016-03-31 00:00:00</td>\n",
       "      <td>0</td>\n",
       "      <td>60437</td>\n",
       "      <td>2016-04-06 10:17:21</td>\n",
       "    </tr>\n",
       "  </tbody>\n",
       "</table>\n",
       "</div>"
      ],
      "text/plain": [
       "           DateCrawled  Price VehicleType  RegistrationYear Gearbox  Power  \\\n",
       "0  2016-03-24 11:52:17    480         NaN              1993  manual      0   \n",
       "1  2016-03-24 10:58:45  18300       coupe              2011  manual    190   \n",
       "2  2016-03-14 12:52:21   9800         suv              2004    auto    163   \n",
       "3  2016-03-17 16:54:04   1500       small              2001  manual     75   \n",
       "4  2016-03-31 17:25:20   3600       small              2008  manual     69   \n",
       "\n",
       "   Model  Kilometer  RegistrationMonth  FuelType       Brand Repaired  \\\n",
       "0   golf     150000                  0    petrol  volkswagen      NaN   \n",
       "1    NaN     125000                  5  gasoline        audi      yes   \n",
       "2  grand     125000                  8  gasoline        jeep      NaN   \n",
       "3   golf     150000                  6    petrol  volkswagen       no   \n",
       "4  fabia      90000                  7  gasoline       skoda       no   \n",
       "\n",
       "           DateCreated  NumberOfPictures  PostalCode             LastSeen  \n",
       "0  2016-03-24 00:00:00                 0       70435  2016-04-07 03:16:57  \n",
       "1  2016-03-24 00:00:00                 0       66954  2016-04-07 01:46:50  \n",
       "2  2016-03-14 00:00:00                 0       90480  2016-04-05 12:47:46  \n",
       "3  2016-03-17 00:00:00                 0       91074  2016-03-17 17:40:17  \n",
       "4  2016-03-31 00:00:00                 0       60437  2016-04-06 10:17:21  "
      ]
     },
     "execution_count": 6,
     "metadata": {},
     "output_type": "execute_result"
    }
   ],
   "source": [
    "# информация о данных\n",
    "data.info()\n",
    "# выведим количесвто явных дубликатов \n",
    "print('')\n",
    "print('сумма полных дублекатов',data.duplicated().sum())\n",
    "print('')\n",
    "# выведим 5 строк данныч\n",
    "data.head()"
   ]
  },
  {
   "cell_type": "code",
   "execution_count": 7,
   "metadata": {},
   "outputs": [
    {
     "data": {
      "text/plain": [
       "DateCrawled              0\n",
       "Price                    0\n",
       "RegistrationYear         0\n",
       "Power                    0\n",
       "Kilometer                0\n",
       "RegistrationMonth        0\n",
       "Brand                    0\n",
       "DateCreated              0\n",
       "NumberOfPictures         0\n",
       "PostalCode               0\n",
       "LastSeen                 0\n",
       "Model                19705\n",
       "Gearbox              19833\n",
       "FuelType             32895\n",
       "VehicleType          37490\n",
       "Repaired             71154\n",
       "dtype: int64"
      ]
     },
     "execution_count": 7,
     "metadata": {},
     "output_type": "execute_result"
    }
   ],
   "source": [
    "data.isna().sum().sort_values()"
   ]
  },
  {
   "cell_type": "markdown",
   "metadata": {},
   "source": [
    "<br><font color='green'>- В <b>NumberOfPictures </b>пропусков нет. \n",
    "<br><font color='green'>- В<b> PostalCode</b> пропусков нет. \n",
    "<br> <font color='green'>- В столбце <b>Price</b> нет никаких проблем (пропуски отсутствуют). \n",
    "<br><font color='green'>- В <b>RegistrationYear</b> нет пропусков, столбец имеет тип int64, так можно и оставить. \n",
    "<br><font color='green'>- В <b>Power</b> пропусков нет. \n",
    "<br><font color='green'>- В <b>Kilometer</b> всё хорошо. \n",
    "<br><font color='green'>- В <b>RegistrationMonth</b> всё хорошо. \n",
    "<br><font color='green'>- В <b>FuelType</b> всё хорошо. \n",
    "<br><font color='green'>- В <b>Brand</b> всё хорошо. \n",
    "<br><font color='green'>- В <b>DateCreated</b>  пропусков в файле нет. \n",
    "<br><font color='green'>- В <b>LastSeen</b>  пропусков в файле нет.\n",
    "    <br> <font color='green'>- Столбец <b>DateCrawled</b>  пропусков в файле нет. \n",
    "    \n",
    "    \n",
    "<br><font color='orange'>- В <b>Model</b> имеются пропуски, их также можно заменить, удалить, не трогать. \n",
    "<br><font color='orange'>- В <b>Repaired</b> самое большое количество пропусков 71154, в этом случае можем предположить, что пропуск обозначает «нет», есть риск, если изменить в таком количестве пропусков, можно сильно повлиять на исход ответа. \n",
    "    \n",
    "\n",
    "   <br><font color='red'>- В <b>Gearbox</b> присутствует 19833 пропусков (их также можно не трогать или поменять на самое популярное, или удалить из файла, что лучше повлияет на модель).\n",
    "<br> <font color='red'>- В <b>VehicleType</b> 37490 пропусков, которые можно не трогать, а можно заменить на значение, которое больше всего попадаеться (надо смотреть веса и пробовать сделать 2 модели с и без этих действий). "
   ]
  },
  {
   "cell_type": "code",
   "execution_count": 8,
   "metadata": {},
   "outputs": [
    {
     "data": {
      "text/plain": [
       "0"
      ]
     },
     "execution_count": 8,
     "metadata": {},
     "output_type": "execute_result"
    }
   ],
   "source": [
    "data =data.drop_duplicates()\n",
    "data.duplicated().sum()"
   ]
  },
  {
   "cell_type": "code",
   "execution_count": 9,
   "metadata": {},
   "outputs": [
    {
     "name": "stdout",
     "output_type": "stream",
     "text": [
      "<class 'pandas.core.frame.DataFrame'>\n",
      "Int64Index: 354365 entries, 0 to 354368\n",
      "Data columns (total 16 columns):\n",
      " #   Column             Non-Null Count   Dtype         \n",
      "---  ------             --------------   -----         \n",
      " 0   DateCrawled        354365 non-null  datetime64[ns]\n",
      " 1   Price              354365 non-null  int64         \n",
      " 2   VehicleType        316875 non-null  object        \n",
      " 3   RegistrationYear   354365 non-null  int64         \n",
      " 4   Gearbox            334532 non-null  object        \n",
      " 5   Power              354365 non-null  int64         \n",
      " 6   Model              334660 non-null  object        \n",
      " 7   Kilometer          354365 non-null  int64         \n",
      " 8   RegistrationMonth  354365 non-null  int64         \n",
      " 9   FuelType           321470 non-null  object        \n",
      " 10  Brand              354365 non-null  object        \n",
      " 11  Repaired           283211 non-null  object        \n",
      " 12  DateCreated        354365 non-null  datetime64[ns]\n",
      " 13  NumberOfPictures   354365 non-null  int64         \n",
      " 14  PostalCode         354365 non-null  int64         \n",
      " 15  LastSeen           354365 non-null  datetime64[ns]\n",
      "dtypes: datetime64[ns](3), int64(7), object(6)\n",
      "memory usage: 46.0+ MB\n"
     ]
    }
   ],
   "source": [
    "data['DateCrawled'] = pd.to_datetime(data['DateCrawled'])\n",
    "data['DateCreated'] = pd.to_datetime(data['DateCreated'])\n",
    "data['LastSeen'] = pd.to_datetime(data['LastSeen'])\n",
    "\n",
    "\n",
    "\n",
    "\n",
    "\n",
    "data.info()"
   ]
  },
  {
   "cell_type": "code",
   "execution_count": 10,
   "metadata": {
    "scrolled": true
   },
   "outputs": [
    {
     "data": {
      "text/html": [
       "<div>\n",
       "<style scoped>\n",
       "    .dataframe tbody tr th:only-of-type {\n",
       "        vertical-align: middle;\n",
       "    }\n",
       "\n",
       "    .dataframe tbody tr th {\n",
       "        vertical-align: top;\n",
       "    }\n",
       "\n",
       "    .dataframe thead th {\n",
       "        text-align: right;\n",
       "    }\n",
       "</style>\n",
       "<table border=\"1\" class=\"dataframe\">\n",
       "  <thead>\n",
       "    <tr style=\"text-align: right;\">\n",
       "      <th></th>\n",
       "      <th>DateCrawled</th>\n",
       "      <th>Price</th>\n",
       "      <th>VehicleType</th>\n",
       "      <th>RegistrationYear</th>\n",
       "      <th>Gearbox</th>\n",
       "      <th>Power</th>\n",
       "      <th>Model</th>\n",
       "      <th>Kilometer</th>\n",
       "      <th>RegistrationMonth</th>\n",
       "      <th>FuelType</th>\n",
       "      <th>Brand</th>\n",
       "      <th>Repaired</th>\n",
       "      <th>DateCreated</th>\n",
       "      <th>NumberOfPictures</th>\n",
       "      <th>PostalCode</th>\n",
       "      <th>LastSeen</th>\n",
       "    </tr>\n",
       "  </thead>\n",
       "  <tbody>\n",
       "    <tr>\n",
       "      <th>0</th>\n",
       "      <td>2016-03-24 11:52:17</td>\n",
       "      <td>480</td>\n",
       "      <td>unknown</td>\n",
       "      <td>1993</td>\n",
       "      <td>manual</td>\n",
       "      <td>0</td>\n",
       "      <td>golf</td>\n",
       "      <td>150000</td>\n",
       "      <td>0</td>\n",
       "      <td>petrol</td>\n",
       "      <td>volkswagen</td>\n",
       "      <td>unknown</td>\n",
       "      <td>2016-03-24</td>\n",
       "      <td>0</td>\n",
       "      <td>70435</td>\n",
       "      <td>2016-04-07 03:16:57</td>\n",
       "    </tr>\n",
       "    <tr>\n",
       "      <th>1</th>\n",
       "      <td>2016-03-24 10:58:45</td>\n",
       "      <td>18300</td>\n",
       "      <td>coupe</td>\n",
       "      <td>2011</td>\n",
       "      <td>manual</td>\n",
       "      <td>190</td>\n",
       "      <td>unknown</td>\n",
       "      <td>125000</td>\n",
       "      <td>5</td>\n",
       "      <td>gasoline</td>\n",
       "      <td>audi</td>\n",
       "      <td>yes</td>\n",
       "      <td>2016-03-24</td>\n",
       "      <td>0</td>\n",
       "      <td>66954</td>\n",
       "      <td>2016-04-07 01:46:50</td>\n",
       "    </tr>\n",
       "    <tr>\n",
       "      <th>2</th>\n",
       "      <td>2016-03-14 12:52:21</td>\n",
       "      <td>9800</td>\n",
       "      <td>suv</td>\n",
       "      <td>2004</td>\n",
       "      <td>auto</td>\n",
       "      <td>163</td>\n",
       "      <td>grand</td>\n",
       "      <td>125000</td>\n",
       "      <td>8</td>\n",
       "      <td>gasoline</td>\n",
       "      <td>jeep</td>\n",
       "      <td>unknown</td>\n",
       "      <td>2016-03-14</td>\n",
       "      <td>0</td>\n",
       "      <td>90480</td>\n",
       "      <td>2016-04-05 12:47:46</td>\n",
       "    </tr>\n",
       "    <tr>\n",
       "      <th>3</th>\n",
       "      <td>2016-03-17 16:54:04</td>\n",
       "      <td>1500</td>\n",
       "      <td>small</td>\n",
       "      <td>2001</td>\n",
       "      <td>manual</td>\n",
       "      <td>75</td>\n",
       "      <td>golf</td>\n",
       "      <td>150000</td>\n",
       "      <td>6</td>\n",
       "      <td>petrol</td>\n",
       "      <td>volkswagen</td>\n",
       "      <td>no</td>\n",
       "      <td>2016-03-17</td>\n",
       "      <td>0</td>\n",
       "      <td>91074</td>\n",
       "      <td>2016-03-17 17:40:17</td>\n",
       "    </tr>\n",
       "    <tr>\n",
       "      <th>4</th>\n",
       "      <td>2016-03-31 17:25:20</td>\n",
       "      <td>3600</td>\n",
       "      <td>small</td>\n",
       "      <td>2008</td>\n",
       "      <td>manual</td>\n",
       "      <td>69</td>\n",
       "      <td>fabia</td>\n",
       "      <td>90000</td>\n",
       "      <td>7</td>\n",
       "      <td>gasoline</td>\n",
       "      <td>skoda</td>\n",
       "      <td>no</td>\n",
       "      <td>2016-03-31</td>\n",
       "      <td>0</td>\n",
       "      <td>60437</td>\n",
       "      <td>2016-04-06 10:17:21</td>\n",
       "    </tr>\n",
       "  </tbody>\n",
       "</table>\n",
       "</div>"
      ],
      "text/plain": [
       "          DateCrawled  Price VehicleType  RegistrationYear Gearbox  Power  \\\n",
       "0 2016-03-24 11:52:17    480     unknown              1993  manual      0   \n",
       "1 2016-03-24 10:58:45  18300       coupe              2011  manual    190   \n",
       "2 2016-03-14 12:52:21   9800         suv              2004    auto    163   \n",
       "3 2016-03-17 16:54:04   1500       small              2001  manual     75   \n",
       "4 2016-03-31 17:25:20   3600       small              2008  manual     69   \n",
       "\n",
       "     Model  Kilometer  RegistrationMonth  FuelType       Brand Repaired  \\\n",
       "0     golf     150000                  0    petrol  volkswagen  unknown   \n",
       "1  unknown     125000                  5  gasoline        audi      yes   \n",
       "2    grand     125000                  8  gasoline        jeep  unknown   \n",
       "3     golf     150000                  6    petrol  volkswagen       no   \n",
       "4    fabia      90000                  7  gasoline       skoda       no   \n",
       "\n",
       "  DateCreated  NumberOfPictures  PostalCode            LastSeen  \n",
       "0  2016-03-24                 0       70435 2016-04-07 03:16:57  \n",
       "1  2016-03-24                 0       66954 2016-04-07 01:46:50  \n",
       "2  2016-03-14                 0       90480 2016-04-05 12:47:46  \n",
       "3  2016-03-17                 0       91074 2016-03-17 17:40:17  \n",
       "4  2016-03-31                 0       60437 2016-04-06 10:17:21  "
      ]
     },
     "execution_count": 10,
     "metadata": {},
     "output_type": "execute_result"
    }
   ],
   "source": [
    "# в столбцах Model, Gearbox, FuelType, VehicleType, Repaired заполним пропуски заглушками unknown     \n",
    "columns = ['Model', 'Gearbox', 'FuelType', 'VehicleType', 'Repaired'  ]\n",
    "data[columns] = data[columns].fillna('unknown')\n",
    "data.head()"
   ]
  },
  {
   "cell_type": "code",
   "execution_count": 11,
   "metadata": {},
   "outputs": [
    {
     "data": {
      "text/plain": [
       "Text(0.5, 1.0, 'количество скачивания анкеты из базы ')"
      ]
     },
     "execution_count": 11,
     "metadata": {},
     "output_type": "execute_result"
    },
    {
     "data": {
      "image/png": "[encoded data removed]",
      "text/plain": [
       "<Figure size 1080x576 with 1 Axes>"
      ]
     },
     "metadata": {
      "needs_background": "light"
     },
     "output_type": "display_data"
    }
   ],
   "source": [
    "data['DateCrawled'].hist(bins=30 ,  figsize=(15, 8), ec='black', legend=True )\n",
    "plt.xlabel('года')\n",
    "plt.ylabel('количество')\n",
    "plt.title('количество скачивания анкеты из базы ')"
   ]
  },
  {
   "cell_type": "code",
   "execution_count": 12,
   "metadata": {},
   "outputs": [
    {
     "data": {
      "text/plain": [
       "'2016-03-05 14:06:22 ---- 2016-04-07 14:36:58'"
      ]
     },
     "execution_count": 12,
     "metadata": {},
     "output_type": "execute_result"
    }
   ],
   "source": [
    "# посмотрим периуд за каторый скачивались данные \n",
    "minn = data['DateCrawled'].min()\n",
    "maxx = data['DateCrawled'].max()\n",
    "f'{minn} ---- {maxx}'"
   ]
  },
  {
   "cell_type": "markdown",
   "metadata": {},
   "source": [
    "Временной отрезок короткий, и модель будет хуже показывать на датах, не входящих в этот диапазон. "
   ]
  },
  {
   "cell_type": "code",
   "execution_count": 13,
   "metadata": {},
   "outputs": [
    {
     "data": {
      "text/plain": [
       "Text(0.5, 1.0, 'какое количество с какой суммой ')"
      ]
     },
     "execution_count": 13,
     "metadata": {},
     "output_type": "execute_result"
    },
    {
     "data": {
      "image/png": "[encoded data removed]",
      "text/plain": [
       "<Figure size 1080x576 with 1 Axes>"
      ]
     },
     "metadata": {
      "needs_background": "light"
     },
     "output_type": "display_data"
    }
   ],
   "source": [
    "data['Price'].hist(bins=30 ,  figsize=(15, 8), ec='black', legend=True )\n",
    "plt.xlabel('цена (евро)')\n",
    "plt.ylabel('количество')\n",
    "plt.title('какое количество с какой суммой ')"
   ]
  },
  {
   "cell_type": "markdown",
   "metadata": {},
   "source": [
    "Видим диаграмму с большим длинным хвостом, что нормально, так как чем больше сумма, тем меньше таких машин."
   ]
  },
  {
   "cell_type": "code",
   "execution_count": 14,
   "metadata": {},
   "outputs": [
    {
     "data": {
      "text/plain": [
       "sedan          91457\n",
       "small          79830\n",
       "wagon          65165\n",
       "unknown        37490\n",
       "bus            28775\n",
       "convertible    20203\n",
       "coupe          16161\n",
       "suv            11996\n",
       "other           3288\n",
       "Name: VehicleType, dtype: int64"
      ]
     },
     "execution_count": 14,
     "metadata": {},
     "output_type": "execute_result"
    }
   ],
   "source": [
    "data['VehicleType'].value_counts()"
   ]
  },
  {
   "cell_type": "code",
   "execution_count": 15,
   "metadata": {},
   "outputs": [
    {
     "data": {
      "text/plain": [
       "2000    24490\n",
       "1999    22727\n",
       "2005    22109\n",
       "2001    20123\n",
       "2006    19900\n",
       "        ...  \n",
       "4100        1\n",
       "1200        1\n",
       "5300        1\n",
       "8888        1\n",
       "2290        1\n",
       "Name: RegistrationYear, Length: 151, dtype: int64"
      ]
     },
     "execution_count": 15,
     "metadata": {},
     "output_type": "execute_result"
    }
   ],
   "source": [
    "data['RegistrationYear'].value_counts()"
   ]
  },
  {
   "cell_type": "code",
   "execution_count": 16,
   "metadata": {
    "scrolled": true
   },
   "outputs": [
    {
     "data": {
      "text/plain": [
       "1000"
      ]
     },
     "execution_count": 16,
     "metadata": {},
     "output_type": "execute_result"
    }
   ],
   "source": [
    "data['RegistrationYear'].min()"
   ]
  },
  {
   "cell_type": "markdown",
   "metadata": {},
   "source": [
    "есть ошибка в данных не может быть регестрация автомобиля после 2016 наши данные до 2016 года включительно.\n",
    "Так же, как автомобиль навряд ли может зарегистрирован быть в 1000 г."
   ]
  },
  {
   "cell_type": "code",
   "execution_count": 17,
   "metadata": {},
   "outputs": [
    {
     "data": {
      "text/html": [
       "<div>\n",
       "<style scoped>\n",
       "    .dataframe tbody tr th:only-of-type {\n",
       "        vertical-align: middle;\n",
       "    }\n",
       "\n",
       "    .dataframe tbody tr th {\n",
       "        vertical-align: top;\n",
       "    }\n",
       "\n",
       "    .dataframe thead th {\n",
       "        text-align: right;\n",
       "    }\n",
       "</style>\n",
       "<table border=\"1\" class=\"dataframe\">\n",
       "  <thead>\n",
       "    <tr style=\"text-align: right;\">\n",
       "      <th></th>\n",
       "      <th>RegistrationYear</th>\n",
       "    </tr>\n",
       "  </thead>\n",
       "  <tbody>\n",
       "    <tr>\n",
       "      <th>1919</th>\n",
       "      <td>1</td>\n",
       "    </tr>\n",
       "    <tr>\n",
       "      <th>1253</th>\n",
       "      <td>1</td>\n",
       "    </tr>\n",
       "    <tr>\n",
       "      <th>1255</th>\n",
       "      <td>1</td>\n",
       "    </tr>\n",
       "    <tr>\n",
       "      <th>1602</th>\n",
       "      <td>1</td>\n",
       "    </tr>\n",
       "    <tr>\n",
       "      <th>1400</th>\n",
       "      <td>1</td>\n",
       "    </tr>\n",
       "    <tr>\n",
       "      <th>1915</th>\n",
       "      <td>1</td>\n",
       "    </tr>\n",
       "    <tr>\n",
       "      <th>1039</th>\n",
       "      <td>1</td>\n",
       "    </tr>\n",
       "    <tr>\n",
       "      <th>1920</th>\n",
       "      <td>1</td>\n",
       "    </tr>\n",
       "    <tr>\n",
       "      <th>1925</th>\n",
       "      <td>1</td>\n",
       "    </tr>\n",
       "    <tr>\n",
       "      <th>1927</th>\n",
       "      <td>1</td>\n",
       "    </tr>\n",
       "    <tr>\n",
       "      <th>1931</th>\n",
       "      <td>1</td>\n",
       "    </tr>\n",
       "    <tr>\n",
       "      <th>1200</th>\n",
       "      <td>1</td>\n",
       "    </tr>\n",
       "    <tr>\n",
       "      <th>1688</th>\n",
       "      <td>1</td>\n",
       "    </tr>\n",
       "    <tr>\n",
       "      <th>1946</th>\n",
       "      <td>1</td>\n",
       "    </tr>\n",
       "    <tr>\n",
       "      <th>1949</th>\n",
       "      <td>1</td>\n",
       "    </tr>\n",
       "    <tr>\n",
       "      <th>1001</th>\n",
       "      <td>1</td>\n",
       "    </tr>\n",
       "  </tbody>\n",
       "</table>\n",
       "</div>"
      ],
      "text/plain": [
       "      RegistrationYear\n",
       "1919                 1\n",
       "1253                 1\n",
       "1255                 1\n",
       "1602                 1\n",
       "1400                 1\n",
       "1915                 1\n",
       "1039                 1\n",
       "1920                 1\n",
       "1925                 1\n",
       "1927                 1\n",
       "1931                 1\n",
       "1200                 1\n",
       "1688                 1\n",
       "1946                 1\n",
       "1949                 1\n",
       "1001                 1"
      ]
     },
     "execution_count": 17,
     "metadata": {},
     "output_type": "execute_result"
    }
   ],
   "source": [
    "data = data[data['RegistrationYear'] <= 2016 ]\n",
    "value = pd.DataFrame(data['RegistrationYear'].value_counts())\n",
    "value[value['RegistrationYear'] == 1]\n"
   ]
  },
  {
   "cell_type": "code",
   "execution_count": 18,
   "metadata": {},
   "outputs": [
    {
     "data": {
      "text/plain": [
       "2000    24490\n",
       "1999    22727\n",
       "2005    22109\n",
       "2001    20123\n",
       "2006    19900\n",
       "        ...  \n",
       "1953       14\n",
       "1957       13\n",
       "1951       12\n",
       "1954       11\n",
       "1952        9\n",
       "Name: RegistrationYear, Length: 67, dtype: int64"
      ]
     },
     "execution_count": 18,
     "metadata": {},
     "output_type": "execute_result"
    }
   ],
   "source": [
    "data = data[data['RegistrationYear'] > 1949 ]\n",
    "data['RegistrationYear'].value_counts()"
   ]
  },
  {
   "cell_type": "code",
   "execution_count": 19,
   "metadata": {},
   "outputs": [
    {
     "data": {
      "text/plain": [
       "Text(0.5, 1.0, 'какое количество с какой суммой ')"
      ]
     },
     "execution_count": 19,
     "metadata": {},
     "output_type": "execute_result"
    },
    {
     "data": {
      "image/png": "[encoded data removed]",
      "text/plain": [
       "<Figure size 1080x576 with 1 Axes>"
      ]
     },
     "metadata": {
      "needs_background": "light"
     },
     "output_type": "display_data"
    }
   ],
   "source": [
    "data['RegistrationYear'].hist(bins=30 ,  figsize=(15, 8), ec='black', legend=True )\n",
    "plt.xlabel('цена (евро)')\n",
    "plt.ylabel('количество')\n",
    "plt.title('какое количество с какой суммой ')"
   ]
  },
  {
   "cell_type": "markdown",
   "metadata": {},
   "source": [
    "Видим колокол с длинным хвостом слева (распределение нормальное)."
   ]
  },
  {
   "cell_type": "code",
   "execution_count": 20,
   "metadata": {},
   "outputs": [
    {
     "data": {
      "text/plain": [
       "manual     257481\n",
       "auto        64296\n",
       "unknown     17812\n",
       "Name: Gearbox, dtype: int64"
      ]
     },
     "execution_count": 20,
     "metadata": {},
     "output_type": "execute_result"
    }
   ],
   "source": [
    "\n",
    "data['Gearbox'].value_counts()"
   ]
  },
  {
   "cell_type": "code",
   "execution_count": 21,
   "metadata": {},
   "outputs": [
    {
     "data": {
      "text/plain": [
       "(0.0, 800.0)"
      ]
     },
     "execution_count": 21,
     "metadata": {},
     "output_type": "execute_result"
    },
    {
     "data": {
      "image/png": "[encoded data removed]",
      "text/plain": [
       "<Figure size 576x432 with 1 Axes>"
      ]
     },
     "metadata": {
      "needs_background": "light"
     },
     "output_type": "display_data"
    }
   ],
   "source": [
    "data.boxplot(column='Power', figsize=(8, 6))\n",
    "plt.ylim(0,800)\n"
   ]
  },
  {
   "cell_type": "markdown",
   "metadata": {},
   "source": [
    "Уберем все машины, которые по мощности больше 600 сил, с учетом, что есть редкие мощные автомобили. "
   ]
  },
  {
   "cell_type": "code",
   "execution_count": 22,
   "metadata": {},
   "outputs": [
    {
     "data": {
      "text/plain": [
       "Text(0.5, 1.0, 'количество машин с той или иной мощностью ')"
      ]
     },
     "execution_count": 22,
     "metadata": {},
     "output_type": "execute_result"
    },
    {
     "data": {
      "image/png": "[encoded data removed]",
      "text/plain": [
       "<Figure size 1080x576 with 1 Axes>"
      ]
     },
     "metadata": {
      "needs_background": "light"
     },
     "output_type": "display_data"
    }
   ],
   "source": [
    "data = data[data['Power'] <= 600 ]\n",
    "data['Power'].hist(bins=30 ,  figsize=(15, 8), ec='black', legend=True )\n",
    "plt.xlabel('мощность л.с')\n",
    "plt.ylabel('количество')\n",
    "plt.title('количество машин с той или иной мощностью ')"
   ]
  },
  {
   "cell_type": "markdown",
   "metadata": {},
   "source": [
    "В столбце Model ничего менять не будем, бывают и редкие модели, оставляем без изменений. "
   ]
  },
  {
   "cell_type": "code",
   "execution_count": 23,
   "metadata": {},
   "outputs": [
    {
     "data": {
      "text/plain": [
       "Text(0.5, 1.0, 'количество машин с пробегом (км) ')"
      ]
     },
     "execution_count": 23,
     "metadata": {},
     "output_type": "execute_result"
    },
    {
     "data": {
      "image/png": "[encoded data removed]",
      "text/plain": [
       "<Figure size 1080x576 with 1 Axes>"
      ]
     },
     "metadata": {
      "needs_background": "light"
     },
     "output_type": "display_data"
    }
   ],
   "source": [
    "data['Kilometer'].hist(bins=10 ,  figsize=(15, 8), ec='black', legend=True )\n",
    "plt.xlabel('пробег (км)')\n",
    "plt.ylabel('количество')\n",
    "plt.title('количество машин с пробегом (км) ')"
   ]
  },
  {
   "cell_type": "markdown",
   "metadata": {},
   "source": [
    " с данными о пробеше все хорошо\n",
    " "
   ]
  },
  {
   "cell_type": "code",
   "execution_count": 24,
   "metadata": {},
   "outputs": [
    {
     "data": {
      "text/plain": [
       "Text(0.5, 1.0, ' месяц регистрации автомобиля ')"
      ]
     },
     "execution_count": 24,
     "metadata": {},
     "output_type": "execute_result"
    },
    {
     "data": {
      "image/png": "[encoded data removed]",
      "text/plain": [
       "<Figure size 1080x576 with 1 Axes>"
      ]
     },
     "metadata": {
      "needs_background": "light"
     },
     "output_type": "display_data"
    }
   ],
   "source": [
    "data['RegistrationMonth'].hist(bins=10 ,  figsize=(15, 8), ec='black', legend=True )\n",
    "plt.xlabel(' месяц регистрации автомобиля')\n",
    "plt.ylabel('количество')\n",
    "plt.title(' месяц регистрации автомобиля ')"
   ]
  },
  {
   "cell_type": "code",
   "execution_count": 25,
   "metadata": {},
   "outputs": [
    {
     "data": {
      "text/plain": [
       "0     33477\n",
       "3     33160\n",
       "6     30349\n",
       "4     28158\n",
       "5     28105\n",
       "7     26262\n",
       "10    25233\n",
       "12    23361\n",
       "11    23357\n",
       "9     23054\n",
       "1     22404\n",
       "8     21807\n",
       "2     20514\n",
       "Name: RegistrationMonth, dtype: int64"
      ]
     },
     "execution_count": 25,
     "metadata": {},
     "output_type": "execute_result"
    }
   ],
   "source": [
    "data['RegistrationMonth'].value_counts()"
   ]
  },
  {
   "cell_type": "markdown",
   "metadata": {},
   "source": [
    "В данных присутствует заглушка как 0 месяц."
   ]
  },
  {
   "cell_type": "code",
   "execution_count": 26,
   "metadata": {},
   "outputs": [
    {
     "data": {
      "text/plain": [
       "petrol      209719\n",
       "gasoline     96226\n",
       "unknown      27097\n",
       "lpg           5155\n",
       "cng            540\n",
       "hybrid         224\n",
       "other          192\n",
       "electric        88\n",
       "Name: FuelType, dtype: int64"
      ]
     },
     "execution_count": 26,
     "metadata": {},
     "output_type": "execute_result"
    }
   ],
   "source": [
    "data['FuelType'].value_counts()"
   ]
  },
  {
   "cell_type": "markdown",
   "metadata": {},
   "source": [
    "С большой вероятностью наша зашлушка в виде unknown может быть petrol, но тогда к нему мы добавим целых 10%, что много, оставим как есть. "
   ]
  },
  {
   "cell_type": "code",
   "execution_count": 27,
   "metadata": {},
   "outputs": [
    {
     "data": {
      "text/plain": [
       "volkswagen        73094\n",
       "opel              37931\n",
       "bmw               35761\n",
       "mercedes_benz     30969\n",
       "audi              28448\n",
       "ford              24123\n",
       "renault           16906\n",
       "peugeot           10614\n",
       "fiat               9141\n",
       "seat               6526\n",
       "mazda              5396\n",
       "skoda              5356\n",
       "smart              5024\n",
       "citroen            4898\n",
       "nissan             4741\n",
       "toyota             4455\n",
       "hyundai            3445\n",
       "volvo              3139\n",
       "sonstige_autos     3128\n",
       "mini               3091\n",
       "mitsubishi         2905\n",
       "honda              2685\n",
       "kia                2362\n",
       "suzuki             2246\n",
       "alfa_romeo         2230\n",
       "chevrolet          1697\n",
       "chrysler           1389\n",
       "dacia               874\n",
       "daihatsu            780\n",
       "porsche             747\n",
       "subaru              740\n",
       "jeep                646\n",
       "trabant             570\n",
       "land_rover          537\n",
       "saab                514\n",
       "daewoo              512\n",
       "jaguar              500\n",
       "rover               459\n",
       "lancia              444\n",
       "lada                218\n",
       "Name: Brand, dtype: int64"
      ]
     },
     "execution_count": 27,
     "metadata": {},
     "output_type": "execute_result"
    }
   ],
   "source": [
    "data['Brand'].value_counts()"
   ]
  },
  {
   "cell_type": "markdown",
   "metadata": {},
   "source": [
    "Самая популярная марка — это Volkswagen, самая непопулярная — Lada, что в дальнейшем даст вероятность показать верно цену на Volkswagen, чем на остальные машины, и больше всего ошибок с Lada."
   ]
  },
  {
   "cell_type": "code",
   "execution_count": 28,
   "metadata": {
    "scrolled": true
   },
   "outputs": [
    {
     "data": {
      "text/plain": [
       "no         239875\n",
       "unknown     64551\n",
       "yes         34815\n",
       "Name: Repaired, dtype: int64"
      ]
     },
     "execution_count": 28,
     "metadata": {},
     "output_type": "execute_result"
    }
   ],
   "source": [
    "data['Repaired'].value_counts()"
   ]
  },
  {
   "cell_type": "code",
   "execution_count": 29,
   "metadata": {},
   "outputs": [
    {
     "data": {
      "text/plain": [
       "Text(0.5, 1.0, ' дата создания анкеты ')"
      ]
     },
     "execution_count": 29,
     "metadata": {},
     "output_type": "execute_result"
    },
    {
     "data": {
      "image/png": "[encoded data removed]",
      "text/plain": [
       "<Figure size 1080x576 with 1 Axes>"
      ]
     },
     "metadata": {
      "needs_background": "light"
     },
     "output_type": "display_data"
    }
   ],
   "source": [
    "data['DateCreated'].hist(bins=50 ,  figsize=(15, 8), ec='black', legend=True )\n",
    "plt.xlabel(' дата ')\n",
    "plt.ylabel('количество')\n",
    "plt.title(' дата создания анкеты ')"
   ]
  },
  {
   "cell_type": "markdown",
   "metadata": {},
   "source": [
    "Из графика видно, что большинство исследуемых анкет в диапазоне 2016-01 до 2016-04. "
   ]
  },
  {
   "cell_type": "code",
   "execution_count": 30,
   "metadata": {},
   "outputs": [
    {
     "data": {
      "text/plain": [
       "0    339241\n",
       "Name: NumberOfPictures, dtype: int64"
      ]
     },
     "execution_count": 30,
     "metadata": {},
     "output_type": "execute_result"
    }
   ],
   "source": [
    "data['NumberOfPictures'].value_counts()"
   ]
  },
  {
   "cell_type": "markdown",
   "metadata": {},
   "source": [
    "Данный столбец не несет никакой важности, удалим его. "
   ]
  },
  {
   "cell_type": "code",
   "execution_count": 31,
   "metadata": {},
   "outputs": [
    {
     "data": {
      "text/html": [
       "<div>\n",
       "<style scoped>\n",
       "    .dataframe tbody tr th:only-of-type {\n",
       "        vertical-align: middle;\n",
       "    }\n",
       "\n",
       "    .dataframe tbody tr th {\n",
       "        vertical-align: top;\n",
       "    }\n",
       "\n",
       "    .dataframe thead th {\n",
       "        text-align: right;\n",
       "    }\n",
       "</style>\n",
       "<table border=\"1\" class=\"dataframe\">\n",
       "  <thead>\n",
       "    <tr style=\"text-align: right;\">\n",
       "      <th></th>\n",
       "      <th>DateCrawled</th>\n",
       "      <th>Price</th>\n",
       "      <th>VehicleType</th>\n",
       "      <th>RegistrationYear</th>\n",
       "      <th>Gearbox</th>\n",
       "      <th>Power</th>\n",
       "      <th>Model</th>\n",
       "      <th>Kilometer</th>\n",
       "      <th>RegistrationMonth</th>\n",
       "      <th>FuelType</th>\n",
       "      <th>Brand</th>\n",
       "      <th>Repaired</th>\n",
       "      <th>DateCreated</th>\n",
       "      <th>PostalCode</th>\n",
       "      <th>LastSeen</th>\n",
       "    </tr>\n",
       "  </thead>\n",
       "  <tbody>\n",
       "    <tr>\n",
       "      <th>0</th>\n",
       "      <td>2016-03-24 11:52:17</td>\n",
       "      <td>480</td>\n",
       "      <td>unknown</td>\n",
       "      <td>1993</td>\n",
       "      <td>manual</td>\n",
       "      <td>0</td>\n",
       "      <td>golf</td>\n",
       "      <td>150000</td>\n",
       "      <td>0</td>\n",
       "      <td>petrol</td>\n",
       "      <td>volkswagen</td>\n",
       "      <td>unknown</td>\n",
       "      <td>2016-03-24</td>\n",
       "      <td>70435</td>\n",
       "      <td>2016-04-07 03:16:57</td>\n",
       "    </tr>\n",
       "    <tr>\n",
       "      <th>1</th>\n",
       "      <td>2016-03-24 10:58:45</td>\n",
       "      <td>18300</td>\n",
       "      <td>coupe</td>\n",
       "      <td>2011</td>\n",
       "      <td>manual</td>\n",
       "      <td>190</td>\n",
       "      <td>unknown</td>\n",
       "      <td>125000</td>\n",
       "      <td>5</td>\n",
       "      <td>gasoline</td>\n",
       "      <td>audi</td>\n",
       "      <td>yes</td>\n",
       "      <td>2016-03-24</td>\n",
       "      <td>66954</td>\n",
       "      <td>2016-04-07 01:46:50</td>\n",
       "    </tr>\n",
       "    <tr>\n",
       "      <th>2</th>\n",
       "      <td>2016-03-14 12:52:21</td>\n",
       "      <td>9800</td>\n",
       "      <td>suv</td>\n",
       "      <td>2004</td>\n",
       "      <td>auto</td>\n",
       "      <td>163</td>\n",
       "      <td>grand</td>\n",
       "      <td>125000</td>\n",
       "      <td>8</td>\n",
       "      <td>gasoline</td>\n",
       "      <td>jeep</td>\n",
       "      <td>unknown</td>\n",
       "      <td>2016-03-14</td>\n",
       "      <td>90480</td>\n",
       "      <td>2016-04-05 12:47:46</td>\n",
       "    </tr>\n",
       "    <tr>\n",
       "      <th>3</th>\n",
       "      <td>2016-03-17 16:54:04</td>\n",
       "      <td>1500</td>\n",
       "      <td>small</td>\n",
       "      <td>2001</td>\n",
       "      <td>manual</td>\n",
       "      <td>75</td>\n",
       "      <td>golf</td>\n",
       "      <td>150000</td>\n",
       "      <td>6</td>\n",
       "      <td>petrol</td>\n",
       "      <td>volkswagen</td>\n",
       "      <td>no</td>\n",
       "      <td>2016-03-17</td>\n",
       "      <td>91074</td>\n",
       "      <td>2016-03-17 17:40:17</td>\n",
       "    </tr>\n",
       "    <tr>\n",
       "      <th>4</th>\n",
       "      <td>2016-03-31 17:25:20</td>\n",
       "      <td>3600</td>\n",
       "      <td>small</td>\n",
       "      <td>2008</td>\n",
       "      <td>manual</td>\n",
       "      <td>69</td>\n",
       "      <td>fabia</td>\n",
       "      <td>90000</td>\n",
       "      <td>7</td>\n",
       "      <td>gasoline</td>\n",
       "      <td>skoda</td>\n",
       "      <td>no</td>\n",
       "      <td>2016-03-31</td>\n",
       "      <td>60437</td>\n",
       "      <td>2016-04-06 10:17:21</td>\n",
       "    </tr>\n",
       "  </tbody>\n",
       "</table>\n",
       "</div>"
      ],
      "text/plain": [
       "          DateCrawled  Price VehicleType  RegistrationYear Gearbox  Power  \\\n",
       "0 2016-03-24 11:52:17    480     unknown              1993  manual      0   \n",
       "1 2016-03-24 10:58:45  18300       coupe              2011  manual    190   \n",
       "2 2016-03-14 12:52:21   9800         suv              2004    auto    163   \n",
       "3 2016-03-17 16:54:04   1500       small              2001  manual     75   \n",
       "4 2016-03-31 17:25:20   3600       small              2008  manual     69   \n",
       "\n",
       "     Model  Kilometer  RegistrationMonth  FuelType       Brand Repaired  \\\n",
       "0     golf     150000                  0    petrol  volkswagen  unknown   \n",
       "1  unknown     125000                  5  gasoline        audi      yes   \n",
       "2    grand     125000                  8  gasoline        jeep  unknown   \n",
       "3     golf     150000                  6    petrol  volkswagen       no   \n",
       "4    fabia      90000                  7  gasoline       skoda       no   \n",
       "\n",
       "  DateCreated  PostalCode            LastSeen  \n",
       "0  2016-03-24       70435 2016-04-07 03:16:57  \n",
       "1  2016-03-24       66954 2016-04-07 01:46:50  \n",
       "2  2016-03-14       90480 2016-04-05 12:47:46  \n",
       "3  2016-03-17       91074 2016-03-17 17:40:17  \n",
       "4  2016-03-31       60437 2016-04-06 10:17:21  "
      ]
     },
     "execution_count": 31,
     "metadata": {},
     "output_type": "execute_result"
    }
   ],
   "source": [
    "data = data.drop(columns = 'NumberOfPictures')\n",
    "data.head()"
   ]
  },
  {
   "cell_type": "code",
   "execution_count": 32,
   "metadata": {
    "scrolled": true
   },
   "outputs": [
    {
     "data": {
      "text/plain": [
       "331103"
      ]
     },
     "execution_count": 32,
     "metadata": {},
     "output_type": "execute_result"
    }
   ],
   "source": [
    "data['PostalCode'].duplicated().sum()"
   ]
  },
  {
   "cell_type": "markdown",
   "metadata": {},
   "source": [
    "Данные данные нам никак не могут помочь с выявлением цены машины. "
   ]
  },
  {
   "cell_type": "code",
   "execution_count": 34,
   "metadata": {
    "collapsed": true
   },
   "outputs": [
    {
     "ename": "KeyError",
     "evalue": "'LastSeen'",
     "output_type": "error",
     "traceback": [
      "\u001b[0;31m---------------------------------------------------------------------------\u001b[0m",
      "\u001b[0;31mKeyError\u001b[0m                                  Traceback (most recent call last)",
      "\u001b[0;32m/opt/conda/lib/python3.9/site-packages/pandas/core/indexes/base.py\u001b[0m in \u001b[0;36mget_loc\u001b[0;34m(self, key, method, tolerance)\u001b[0m\n\u001b[1;32m   3079\u001b[0m             \u001b[0;32mtry\u001b[0m\u001b[0;34m:\u001b[0m\u001b[0;34m\u001b[0m\u001b[0;34m\u001b[0m\u001b[0m\n\u001b[0;32m-> 3080\u001b[0;31m                 \u001b[0;32mreturn\u001b[0m \u001b[0mself\u001b[0m\u001b[0;34m.\u001b[0m\u001b[0m_engine\u001b[0m\u001b[0;34m.\u001b[0m\u001b[0mget_loc\u001b[0m\u001b[0;34m(\u001b[0m\u001b[0mcasted_key\u001b[0m\u001b[0;34m)\u001b[0m\u001b[0;34m\u001b[0m\u001b[0;34m\u001b[0m\u001b[0m\n\u001b[0m\u001b[1;32m   3081\u001b[0m             \u001b[0;32mexcept\u001b[0m \u001b[0mKeyError\u001b[0m \u001b[0;32mas\u001b[0m \u001b[0merr\u001b[0m\u001b[0;34m:\u001b[0m\u001b[0;34m\u001b[0m\u001b[0;34m\u001b[0m\u001b[0m\n",
      "\u001b[0;32mpandas/_libs/index.pyx\u001b[0m in \u001b[0;36mpandas._libs.index.IndexEngine.get_loc\u001b[0;34m()\u001b[0m\n",
      "\u001b[0;32mpandas/_libs/index.pyx\u001b[0m in \u001b[0;36mpandas._libs.index.IndexEngine.get_loc\u001b[0;34m()\u001b[0m\n",
      "\u001b[0;32mpandas/_libs/hashtable_class_helper.pxi\u001b[0m in \u001b[0;36mpandas._libs.hashtable.PyObjectHashTable.get_item\u001b[0;34m()\u001b[0m\n",
      "\u001b[0;32mpandas/_libs/hashtable_class_helper.pxi\u001b[0m in \u001b[0;36mpandas._libs.hashtable.PyObjectHashTable.get_item\u001b[0;34m()\u001b[0m\n",
      "\u001b[0;31mKeyError\u001b[0m: 'LastSeen'",
      "\nThe above exception was the direct cause of the following exception:\n",
      "\u001b[0;31mKeyError\u001b[0m                                  Traceback (most recent call last)",
      "\u001b[0;32m/tmp/ipykernel_189/3459933094.py\u001b[0m in \u001b[0;36m<module>\u001b[0;34m\u001b[0m\n\u001b[0;32m----> 1\u001b[0;31m \u001b[0mdata\u001b[0m\u001b[0;34m[\u001b[0m\u001b[0;34m'LastSeen'\u001b[0m\u001b[0;34m]\u001b[0m\u001b[0;34m.\u001b[0m\u001b[0mhist\u001b[0m\u001b[0;34m(\u001b[0m\u001b[0mbins\u001b[0m \u001b[0;34m=\u001b[0m\u001b[0;36m40\u001b[0m\u001b[0;34m,\u001b[0m \u001b[0mfigsize\u001b[0m \u001b[0;34m=\u001b[0m \u001b[0;34m(\u001b[0m\u001b[0;36m15\u001b[0m\u001b[0;34m,\u001b[0m\u001b[0;36m8\u001b[0m\u001b[0;34m)\u001b[0m\u001b[0;34m)\u001b[0m\u001b[0;34m\u001b[0m\u001b[0;34m\u001b[0m\u001b[0m\n\u001b[0m\u001b[1;32m      2\u001b[0m \u001b[0mplt\u001b[0m\u001b[0;34m.\u001b[0m\u001b[0mxlabel\u001b[0m\u001b[0;34m(\u001b[0m\u001b[0;34m'дата'\u001b[0m\u001b[0;34m)\u001b[0m\u001b[0;34m\u001b[0m\u001b[0;34m\u001b[0m\u001b[0m\n\u001b[1;32m      3\u001b[0m \u001b[0mplt\u001b[0m\u001b[0;34m.\u001b[0m\u001b[0mylabel\u001b[0m\u001b[0;34m(\u001b[0m\u001b[0;34m'количество'\u001b[0m\u001b[0;34m)\u001b[0m\u001b[0;34m\u001b[0m\u001b[0;34m\u001b[0m\u001b[0m\n\u001b[1;32m      4\u001b[0m \u001b[0mplt\u001b[0m\u001b[0;34m.\u001b[0m\u001b[0mtitle\u001b[0m\u001b[0;34m(\u001b[0m\u001b[0;34m' дата последней активности пользователя'\u001b[0m\u001b[0;34m)\u001b[0m\u001b[0;34m\u001b[0m\u001b[0;34m\u001b[0m\u001b[0m\n",
      "\u001b[0;32m/opt/conda/lib/python3.9/site-packages/pandas/core/frame.py\u001b[0m in \u001b[0;36m__getitem__\u001b[0;34m(self, key)\u001b[0m\n\u001b[1;32m   3022\u001b[0m             \u001b[0;32mif\u001b[0m \u001b[0mself\u001b[0m\u001b[0;34m.\u001b[0m\u001b[0mcolumns\u001b[0m\u001b[0;34m.\u001b[0m\u001b[0mnlevels\u001b[0m \u001b[0;34m>\u001b[0m \u001b[0;36m1\u001b[0m\u001b[0;34m:\u001b[0m\u001b[0;34m\u001b[0m\u001b[0;34m\u001b[0m\u001b[0m\n\u001b[1;32m   3023\u001b[0m                 \u001b[0;32mreturn\u001b[0m \u001b[0mself\u001b[0m\u001b[0;34m.\u001b[0m\u001b[0m_getitem_multilevel\u001b[0m\u001b[0;34m(\u001b[0m\u001b[0mkey\u001b[0m\u001b[0;34m)\u001b[0m\u001b[0;34m\u001b[0m\u001b[0;34m\u001b[0m\u001b[0m\n\u001b[0;32m-> 3024\u001b[0;31m             \u001b[0mindexer\u001b[0m \u001b[0;34m=\u001b[0m \u001b[0mself\u001b[0m\u001b[0;34m.\u001b[0m\u001b[0mcolumns\u001b[0m\u001b[0;34m.\u001b[0m\u001b[0mget_loc\u001b[0m\u001b[0;34m(\u001b[0m\u001b[0mkey\u001b[0m\u001b[0;34m)\u001b[0m\u001b[0;34m\u001b[0m\u001b[0;34m\u001b[0m\u001b[0m\n\u001b[0m\u001b[1;32m   3025\u001b[0m             \u001b[0;32mif\u001b[0m \u001b[0mis_integer\u001b[0m\u001b[0;34m(\u001b[0m\u001b[0mindexer\u001b[0m\u001b[0;34m)\u001b[0m\u001b[0;34m:\u001b[0m\u001b[0;34m\u001b[0m\u001b[0;34m\u001b[0m\u001b[0m\n\u001b[1;32m   3026\u001b[0m                 \u001b[0mindexer\u001b[0m \u001b[0;34m=\u001b[0m \u001b[0;34m[\u001b[0m\u001b[0mindexer\u001b[0m\u001b[0;34m]\u001b[0m\u001b[0;34m\u001b[0m\u001b[0;34m\u001b[0m\u001b[0m\n",
      "\u001b[0;32m/opt/conda/lib/python3.9/site-packages/pandas/core/indexes/base.py\u001b[0m in \u001b[0;36mget_loc\u001b[0;34m(self, key, method, tolerance)\u001b[0m\n\u001b[1;32m   3080\u001b[0m                 \u001b[0;32mreturn\u001b[0m \u001b[0mself\u001b[0m\u001b[0;34m.\u001b[0m\u001b[0m_engine\u001b[0m\u001b[0;34m.\u001b[0m\u001b[0mget_loc\u001b[0m\u001b[0;34m(\u001b[0m\u001b[0mcasted_key\u001b[0m\u001b[0;34m)\u001b[0m\u001b[0;34m\u001b[0m\u001b[0;34m\u001b[0m\u001b[0m\n\u001b[1;32m   3081\u001b[0m             \u001b[0;32mexcept\u001b[0m \u001b[0mKeyError\u001b[0m \u001b[0;32mas\u001b[0m \u001b[0merr\u001b[0m\u001b[0;34m:\u001b[0m\u001b[0;34m\u001b[0m\u001b[0;34m\u001b[0m\u001b[0m\n\u001b[0;32m-> 3082\u001b[0;31m                 \u001b[0;32mraise\u001b[0m \u001b[0mKeyError\u001b[0m\u001b[0;34m(\u001b[0m\u001b[0mkey\u001b[0m\u001b[0;34m)\u001b[0m \u001b[0;32mfrom\u001b[0m \u001b[0merr\u001b[0m\u001b[0;34m\u001b[0m\u001b[0;34m\u001b[0m\u001b[0m\n\u001b[0m\u001b[1;32m   3083\u001b[0m \u001b[0;34m\u001b[0m\u001b[0m\n\u001b[1;32m   3084\u001b[0m         \u001b[0;32mif\u001b[0m \u001b[0mtolerance\u001b[0m \u001b[0;32mis\u001b[0m \u001b[0;32mnot\u001b[0m \u001b[0;32mNone\u001b[0m\u001b[0;34m:\u001b[0m\u001b[0;34m\u001b[0m\u001b[0;34m\u001b[0m\u001b[0m\n",
      "\u001b[0;31mKeyError\u001b[0m: 'LastSeen'"
     ]
    }
   ],
   "source": [
    "data['LastSeen'].hist(bins =40, figsize = (15,8))\n",
    "plt.xlabel('дата')\n",
    "plt.ylabel('количество')\n",
    "plt.title(' дата последней активности пользователя')"
   ]
  },
  {
   "cell_type": "code",
   "execution_count": 33,
   "metadata": {},
   "outputs": [],
   "source": [
    "data = data.drop(columns = 'PostalCode', axis =1)\n",
    "data = data.drop(columns = 'DateCreated', axis =1)\n",
    "data = data.drop(columns = 'DateCrawled', axis =1)\n",
    "data = data.drop(columns = 'LastSeen', axis =1)"
   ]
  },
  {
   "cell_type": "markdown",
   "metadata": {},
   "source": [
    "Видно, что есть хвост из неактивных пользователей."
   ]
  },
  {
   "cell_type": "code",
   "execution_count": null,
   "metadata": {},
   "outputs": [],
   "source": [
    "#column = [  'LastSeen', 'Model', 'Gearbox', 'FuelType', 'VehicleType', 'Repaired',  'Brand'  ]\n",
    "#plt.figure(figsize=(10, 8))\n",
    "#sns.heatmap(data.drop(columns = column),  annot=True, cmap='coolwarm', square=True)\n",
    "#plt.title('Phi_K Correlation Matrix')\n",
    "#plt.show()"
   ]
  },
  {
   "cell_type": "markdown",
   "metadata": {},
   "source": [
    "## Обучение моделей"
   ]
  },
  {
   "cell_type": "code",
   "execution_count": 35,
   "metadata": {},
   "outputs": [
    {
     "data": {
      "text/plain": [
       "((271392, 10), (67849, 10))"
      ]
     },
     "execution_count": 35,
     "metadata": {},
     "output_type": "execute_result"
    }
   ],
   "source": [
    "# Разобьем на тестовую и обучающую выборку. \n",
    "#data = pd.get_dummies(data, drop_first=True)\n",
    "\n",
    "X = data.drop(columns = 'Price', axis =1)\n",
    "y = data.Price\n",
    "\n",
    "X_train, X_test, y_train, y_test = train_test_split(X, y, test_size=0.2, random_state=RANDOM_SEED)\n",
    "X_train.shape, X_test.shape"
   ]
  },
  {
   "cell_type": "code",
   "execution_count": 36,
   "metadata": {
    "scrolled": false
   },
   "outputs": [
    {
     "data": {
      "text/html": [
       "<div>\n",
       "<style scoped>\n",
       "    .dataframe tbody tr th:only-of-type {\n",
       "        vertical-align: middle;\n",
       "    }\n",
       "\n",
       "    .dataframe tbody tr th {\n",
       "        vertical-align: top;\n",
       "    }\n",
       "\n",
       "    .dataframe thead th {\n",
       "        text-align: right;\n",
       "    }\n",
       "</style>\n",
       "<table border=\"1\" class=\"dataframe\">\n",
       "  <thead>\n",
       "    <tr style=\"text-align: right;\">\n",
       "      <th></th>\n",
       "      <th>VehicleType</th>\n",
       "      <th>RegistrationYear</th>\n",
       "      <th>Gearbox</th>\n",
       "      <th>Power</th>\n",
       "      <th>Model</th>\n",
       "      <th>Kilometer</th>\n",
       "      <th>RegistrationMonth</th>\n",
       "      <th>FuelType</th>\n",
       "      <th>Brand</th>\n",
       "      <th>Repaired</th>\n",
       "    </tr>\n",
       "  </thead>\n",
       "  <tbody>\n",
       "    <tr>\n",
       "      <th>341218</th>\n",
       "      <td>suv</td>\n",
       "      <td>2006</td>\n",
       "      <td>auto</td>\n",
       "      <td>349</td>\n",
       "      <td>other</td>\n",
       "      <td>150000</td>\n",
       "      <td>3</td>\n",
       "      <td>lpg</td>\n",
       "      <td>chrysler</td>\n",
       "      <td>unknown</td>\n",
       "    </tr>\n",
       "  </tbody>\n",
       "</table>\n",
       "</div>"
      ],
      "text/plain": [
       "       VehicleType  RegistrationYear Gearbox  Power  Model  Kilometer  \\\n",
       "341218         suv              2006    auto    349  other     150000   \n",
       "\n",
       "        RegistrationMonth FuelType     Brand Repaired  \n",
       "341218                  3      lpg  chrysler  unknown  "
      ]
     },
     "execution_count": 36,
     "metadata": {},
     "output_type": "execute_result"
    }
   ],
   "source": [
    "X_test.head(1)"
   ]
  },
  {
   "cell_type": "code",
   "execution_count": 38,
   "metadata": {},
   "outputs": [],
   "source": [
    "from sklearn.preprocessing import OneHotEncoder"
   ]
  },
  {
   "cell_type": "code",
   "execution_count": 39,
   "metadata": {},
   "outputs": [],
   "source": [
    "ohe =OneHotEncoder(drop='first', handle_unknown='ignore', sparse_output=False)"
   ]
  },
  {
   "cell_type": "code",
   "execution_count": 41,
   "metadata": {},
   "outputs": [],
   "source": [
    "ohe_column = ['VehicleType', 'Gearbox','Model' ,'FuelType','Brand','Repaired']"
   ]
  },
  {
   "cell_type": "code",
   "execution_count": null,
   "metadata": {},
   "outputs": [],
   "source": [
    "X_train[ohe_column] = ohe.fit_transform(X_train[ohe_column])\n",
    "X_train.head()"
   ]
  },
  {
   "cell_type": "code",
   "execution_count": null,
   "metadata": {},
   "outputs": [],
   "source": []
  },
  {
   "cell_type": "code",
   "execution_count": null,
   "metadata": {},
   "outputs": [],
   "source": [
    "from catboost import CatBoostClassifier"
   ]
  },
  {
   "cell_type": "code",
   "execution_count": null,
   "metadata": {},
   "outputs": [],
   "source": [
    "cat_features = ['VehicleType','Gearbox' ,'Model','FuelType','Brand','Repaired']\n",
    "\n",
    "model = CatBoostClassifier(loss_function='Logloss', iterations = 30)# < напишите код здесь >\n",
    "\n",
    "model.fit(X_train, y_train,  verbose=10)\n",
    "\n",
    "probabilities_valid = model.predict_proba(features_valid)\n",
    "probabilities_one_valid = probabilities_valid[:, 1]\n",
    "print(roc_auc_score(target_valid, probabilities_one_valid))"
   ]
  },
  {
   "cell_type": "code",
   "execution_count": null,
   "metadata": {},
   "outputs": [],
   "source": [
    "scaler = StandardScaler()\n",
    "X_train = scaler.fit_transform(X_train)\n",
    "X_test = scaler.transform(X_test)"
   ]
  },
  {
   "cell_type": "code",
   "execution_count": null,
   "metadata": {},
   "outputs": [],
   "source": [
    "lgbm = lgb.LGBMClassifier()\n",
    "\n",
    "lgb_grid = {\n",
    "    'num_leaves': [31, 50],\n",
    "    'max_depth': [-1, 10, 20],\n",
    "    'learning_rate': [0.05, 0.1, 0.2],\n",
    "    'n_estimators': [20, 40, 100]\n",
    "}\n",
    "\n",
    "\n",
    "lgb_search = GridSearchCV(lgbm, lgb_grid, cv=3, scoring='accuracy')\n",
    "lgb_search.fit(X_train, y_train)\n",
    "\n",
    "print(\"Наилучшие параметры для LightGBM:\", lgb_search.best_params_)\n",
    "print(\"Лучший результат LightGBM:\", lgb_search.best_score_)"
   ]
  },
  {
   "cell_type": "code",
   "execution_count": null,
   "metadata": {},
   "outputs": [],
   "source": [
    "rf = RandomForestClassifier()\n",
    "\n",
    "rf_grid = {\n",
    "    'n_estimators': [50, 100],\n",
    "    'max_depth': [None, 10, 20],\n",
    "    'min_samples_split': [2, 5],\n",
    "}\n",
    "\n",
    "rf_search = GridSearchCV(rf, rf_grid, cv=3, scoring='accuracy')\n",
    "rf_search.fit(X_train, y_train)\n",
    "\n",
    "print(\"Best parameters for Random Forest:\", rf_search.best_params_)\n",
    "print(\"Best score for Random Forest:\", rf_search.best_score_)"
   ]
  },
  {
   "cell_type": "markdown",
   "metadata": {},
   "source": [
    "## Анализ моделей"
   ]
  },
  {
   "cell_type": "code",
   "execution_count": null,
   "metadata": {},
   "outputs": [],
   "source": [
    "lgbm_best = lgb.LGBMClassifier(**lgb_search.best_params_)\n",
    "lgbm_best.fit(X_train, y_train)\n",
    "y_pred_lgb = lgbm_best.predict(X_test)\n",
    "accuracy_lgb = accuracy_score(y_test, y_pred_lgb)\n",
    "print(\"Accuracy of LightGBM on test set:\", accuracy_lgb)"
   ]
  },
  {
   "cell_type": "code",
   "execution_count": null,
   "metadata": {},
   "outputs": [],
   "source": [
    "rf_best = RandomForestClassifier(**rf_search.best_params_)\n",
    "rf_best.fit(X_train, y_train)\n",
    "y_pred_rf = rf_best.predict(X_test)\n",
    "accuracy_rf = accuracy_score(y_test, y_pred_rf)\n",
    "\n",
    "print(\"Accuracy of Random Forest on test set:\", accuracy_rf)"
   ]
  },
  {
   "cell_type": "markdown",
   "metadata": {},
   "source": [
    "## Чек-лист проверки"
   ]
  },
  {
   "cell_type": "markdown",
   "metadata": {},
   "source": [
    "Поставьте 'x' в выполненных пунктах. Далее нажмите Shift+Enter."
   ]
  },
  {
   "cell_type": "markdown",
   "metadata": {},
   "source": [
    "- [x]  Jupyter Notebook открыт\n",
    "- [ ]  Весь код выполняется без ошибок\n",
    "- [ ]  Ячейки с кодом расположены в порядке исполнения\n",
    "- [ ]  Выполнена загрузка и подготовка данных\n",
    "- [ ]  Выполнено обучение моделей\n",
    "- [ ]  Есть анализ скорости работы и качества моделей"
   ]
  },
  {
   "cell_type": "code",
   "execution_count": null,
   "metadata": {},
   "outputs": [],
   "source": []
  }
 ],
 "metadata": {
  "ExecuteTimeLog": [
   {
    "duration": 2857,
    "start_time": "2024-11-11T17:23:21.877Z"
   },
   {
    "duration": 1015,
    "start_time": "2024-11-11T17:23:24.865Z"
   },
   {
    "duration": 54897,
    "start_time": "2024-11-11T17:23:42.610Z"
   },
   {
    "duration": 54911,
    "start_time": "2024-11-11T17:28:24.700Z"
   },
   {
    "duration": 9808,
    "start_time": "2024-11-12T18:54:51.339Z"
   },
   {
    "duration": 2469,
    "start_time": "2024-11-12T18:55:01.150Z"
   },
   {
    "duration": 48,
    "start_time": "2024-11-12T18:55:03.621Z"
   },
   {
    "duration": 0,
    "start_time": "2024-11-12T18:55:03.671Z"
   },
   {
    "duration": 0,
    "start_time": "2024-11-12T18:55:03.672Z"
   },
   {
    "duration": 0,
    "start_time": "2024-11-12T18:55:03.673Z"
   },
   {
    "duration": 0,
    "start_time": "2024-11-12T18:55:03.674Z"
   },
   {
    "duration": 1294,
    "start_time": "2024-11-12T18:55:26.455Z"
   },
   {
    "duration": 106,
    "start_time": "2024-11-12T18:55:50.725Z"
   },
   {
    "duration": 10,
    "start_time": "2024-11-12T18:56:09.855Z"
   },
   {
    "duration": 14,
    "start_time": "2024-11-12T18:56:24.338Z"
   },
   {
    "duration": 10,
    "start_time": "2024-11-12T18:56:42.326Z"
   },
   {
    "duration": 11,
    "start_time": "2024-11-12T18:57:05.701Z"
   },
   {
    "duration": 11,
    "start_time": "2024-11-12T18:57:26.362Z"
   },
   {
    "duration": 12,
    "start_time": "2024-11-12T18:57:43.957Z"
   },
   {
    "duration": 10,
    "start_time": "2024-11-12T18:57:54.846Z"
   },
   {
    "duration": 8,
    "start_time": "2024-11-12T18:58:13.027Z"
   },
   {
    "duration": 3,
    "start_time": "2024-11-12T19:01:59.117Z"
   },
   {
    "duration": 12,
    "start_time": "2024-11-12T19:01:59.691Z"
   },
   {
    "duration": 3029,
    "start_time": "2024-11-12T19:02:14.915Z"
   },
   {
    "duration": 160,
    "start_time": "2024-11-12T19:02:19.834Z"
   },
   {
    "duration": 151,
    "start_time": "2024-11-12T19:02:44.619Z"
   },
   {
    "duration": 687,
    "start_time": "2024-11-12T19:03:01.133Z"
   },
   {
    "duration": 657,
    "start_time": "2024-11-12T19:07:15.234Z"
   },
   {
    "duration": 668,
    "start_time": "2024-11-12T19:07:43.801Z"
   },
   {
    "duration": 12,
    "start_time": "2024-11-12T19:28:39.318Z"
   },
   {
    "duration": 147,
    "start_time": "2024-11-12T19:29:19.662Z"
   },
   {
    "duration": 91,
    "start_time": "2024-11-12T20:11:26.928Z"
   },
   {
    "duration": 157,
    "start_time": "2024-11-12T20:11:40.714Z"
   },
   {
    "duration": 308,
    "start_time": "2024-11-12T20:22:33.471Z"
   },
   {
    "duration": 44,
    "start_time": "2024-11-12T20:22:40.242Z"
   },
   {
    "duration": 708,
    "start_time": "2024-11-12T20:34:28.434Z"
   },
   {
    "duration": 99,
    "start_time": "2024-11-12T20:34:32.361Z"
   },
   {
    "duration": 676,
    "start_time": "2024-11-12T20:34:40.017Z"
   },
   {
    "duration": 98,
    "start_time": "2024-11-12T20:34:42.246Z"
   },
   {
    "duration": 23965,
    "start_time": "2024-11-15T13:34:15.057Z"
   },
   {
    "duration": 2681,
    "start_time": "2024-11-15T13:34:39.025Z"
   },
   {
    "duration": 23202,
    "start_time": "2024-11-17T13:20:45.042Z"
   },
   {
    "duration": 2551,
    "start_time": "2024-11-17T13:21:08.246Z"
   },
   {
    "duration": 1163,
    "start_time": "2024-11-17T13:21:10.800Z"
   },
   {
    "duration": 3,
    "start_time": "2024-11-17T13:21:11.965Z"
   },
   {
    "duration": 2997,
    "start_time": "2024-11-17T13:21:11.969Z"
   },
   {
    "duration": 676,
    "start_time": "2024-11-17T13:21:14.968Z"
   },
   {
    "duration": 166,
    "start_time": "2024-11-17T13:21:15.646Z"
   },
   {
    "duration": 306,
    "start_time": "2024-11-17T13:21:15.814Z"
   },
   {
    "duration": 652,
    "start_time": "2024-11-17T13:21:16.121Z"
   },
   {
    "duration": 140,
    "start_time": "2024-11-17T13:21:16.776Z"
   },
   {
    "duration": 119,
    "start_time": "2024-11-17T13:21:16.918Z"
   },
   {
    "duration": 2084,
    "start_time": "2024-11-17T13:24:22.191Z"
   },
   {
    "duration": 10517,
    "start_time": "2024-11-17T13:25:13.352Z"
   },
   {
    "duration": 2627,
    "start_time": "2024-11-17T13:25:23.872Z"
   },
   {
    "duration": 1711,
    "start_time": "2024-11-17T13:25:26.501Z"
   },
   {
    "duration": 4,
    "start_time": "2024-11-17T13:25:28.214Z"
   },
   {
    "duration": 905,
    "start_time": "2024-11-17T13:25:28.220Z"
   },
   {
    "duration": 647,
    "start_time": "2024-11-17T13:25:29.126Z"
   },
   {
    "duration": 156,
    "start_time": "2024-11-17T13:25:29.775Z"
   },
   {
    "duration": 355,
    "start_time": "2024-11-17T13:25:29.933Z"
   },
   {
    "duration": 698,
    "start_time": "2024-11-17T13:25:30.290Z"
   },
   {
    "duration": 137,
    "start_time": "2024-11-17T13:25:30.989Z"
   },
   {
    "duration": 136,
    "start_time": "2024-11-17T13:25:31.128Z"
   },
   {
    "duration": 1322,
    "start_time": "2024-11-17T13:26:07.776Z"
   },
   {
    "duration": 528,
    "start_time": "2024-11-17T13:27:25.526Z"
   },
   {
    "duration": 71,
    "start_time": "2024-11-17T13:29:17.121Z"
   },
   {
    "duration": 5,
    "start_time": "2024-11-17T13:29:34.615Z"
   },
   {
    "duration": 7,
    "start_time": "2024-11-17T13:30:31.989Z"
   },
   {
    "duration": 8,
    "start_time": "2024-11-17T13:30:39.882Z"
   },
   {
    "duration": 109,
    "start_time": "2024-11-17T13:36:03.508Z"
   },
   {
    "duration": 573,
    "start_time": "2024-11-17T13:36:12.310Z"
   },
   {
    "duration": 603,
    "start_time": "2024-11-17T13:36:23.383Z"
   },
   {
    "duration": 332,
    "start_time": "2024-11-17T13:38:48.773Z"
   },
   {
    "duration": 416,
    "start_time": "2024-11-17T13:43:24.248Z"
   },
   {
    "duration": 37,
    "start_time": "2024-11-17T13:43:58.598Z"
   },
   {
    "duration": 372,
    "start_time": "2024-11-17T13:46:45.901Z"
   },
   {
    "duration": 12,
    "start_time": "2024-11-17T13:47:17.302Z"
   },
   {
    "duration": 5,
    "start_time": "2024-11-17T13:49:56.173Z"
   },
   {
    "duration": 46,
    "start_time": "2024-11-17T13:54:43.026Z"
   },
   {
    "duration": 17,
    "start_time": "2024-11-17T13:56:06.459Z"
   },
   {
    "duration": 52,
    "start_time": "2024-11-17T13:58:51.860Z"
   },
   {
    "duration": 56,
    "start_time": "2024-11-17T14:00:27.059Z"
   },
   {
    "duration": 38,
    "start_time": "2024-11-17T14:00:36.286Z"
   },
   {
    "duration": 63,
    "start_time": "2024-11-17T14:01:13.803Z"
   },
   {
    "duration": 47,
    "start_time": "2024-11-17T14:03:24.548Z"
   },
   {
    "duration": 52,
    "start_time": "2024-11-17T14:04:25.987Z"
   },
   {
    "duration": 33,
    "start_time": "2024-11-17T14:04:38.503Z"
   },
   {
    "duration": 55,
    "start_time": "2024-11-17T14:04:45.658Z"
   },
   {
    "duration": 34,
    "start_time": "2024-11-17T14:05:23.932Z"
   },
   {
    "duration": 48,
    "start_time": "2024-11-17T14:05:48.076Z"
   },
   {
    "duration": 342,
    "start_time": "2024-11-17T14:09:02.675Z"
   },
   {
    "duration": 37,
    "start_time": "2024-11-17T14:10:19.503Z"
   },
   {
    "duration": 14,
    "start_time": "2024-11-17T14:11:05.474Z"
   },
   {
    "duration": 379,
    "start_time": "2024-11-17T14:11:14.235Z"
   },
   {
    "duration": 5,
    "start_time": "2024-11-17T14:11:40.592Z"
   },
   {
    "duration": 9,
    "start_time": "2024-11-17T14:13:02.703Z"
   },
   {
    "duration": 35,
    "start_time": "2024-11-17T14:13:18.476Z"
   },
   {
    "duration": 9,
    "start_time": "2024-11-17T14:13:40.294Z"
   },
   {
    "duration": 8,
    "start_time": "2024-11-17T14:13:43.404Z"
   },
   {
    "duration": 13,
    "start_time": "2024-11-17T14:15:14.501Z"
   },
   {
    "duration": 12,
    "start_time": "2024-11-17T14:15:22.138Z"
   },
   {
    "duration": 1107,
    "start_time": "2024-11-17T14:15:44.094Z"
   },
   {
    "duration": 1409,
    "start_time": "2024-11-17T14:15:59.612Z"
   },
   {
    "duration": 1207,
    "start_time": "2024-11-17T14:17:16.957Z"
   },
   {
    "duration": 40,
    "start_time": "2024-11-17T14:17:24.690Z"
   },
   {
    "duration": 33,
    "start_time": "2024-11-17T14:17:43.861Z"
   },
   {
    "duration": 39,
    "start_time": "2024-11-17T14:17:56.830Z"
   },
   {
    "duration": 74,
    "start_time": "2024-11-17T14:18:37.297Z"
   },
   {
    "duration": 1094,
    "start_time": "2024-11-17T14:18:41.763Z"
   },
   {
    "duration": 43,
    "start_time": "2024-11-17T14:19:20.831Z"
   },
   {
    "duration": 13,
    "start_time": "2024-11-17T14:19:56.908Z"
   },
   {
    "duration": 8,
    "start_time": "2024-11-17T14:20:07.603Z"
   },
   {
    "duration": 11,
    "start_time": "2024-11-17T14:20:29.651Z"
   },
   {
    "duration": 45,
    "start_time": "2024-11-17T14:20:43.266Z"
   },
   {
    "duration": 36,
    "start_time": "2024-11-17T14:20:57.568Z"
   },
   {
    "duration": 41,
    "start_time": "2024-11-17T14:21:20.225Z"
   },
   {
    "duration": 371,
    "start_time": "2024-11-17T14:21:59.940Z"
   },
   {
    "duration": 543,
    "start_time": "2024-11-17T14:24:45.069Z"
   },
   {
    "duration": 512,
    "start_time": "2024-11-17T14:26:24.773Z"
   },
   {
    "duration": 465,
    "start_time": "2024-11-17T14:26:43.518Z"
   },
   {
    "duration": 522,
    "start_time": "2024-11-17T14:27:15.682Z"
   },
   {
    "duration": 383,
    "start_time": "2024-11-17T14:29:38.206Z"
   },
   {
    "duration": 62,
    "start_time": "2024-11-17T14:30:27.299Z"
   },
   {
    "duration": 38,
    "start_time": "2024-11-17T14:30:31.878Z"
   },
   {
    "duration": 345,
    "start_time": "2024-11-17T14:32:33.888Z"
   },
   {
    "duration": 374,
    "start_time": "2024-11-17T14:32:43.423Z"
   },
   {
    "duration": 399,
    "start_time": "2024-11-17T14:32:49.964Z"
   },
   {
    "duration": 337,
    "start_time": "2024-11-17T14:32:56.303Z"
   },
   {
    "duration": 323,
    "start_time": "2024-11-17T14:34:33.139Z"
   },
   {
    "duration": 11,
    "start_time": "2024-11-17T14:34:51.378Z"
   },
   {
    "duration": 48,
    "start_time": "2024-11-17T14:37:06.450Z"
   },
   {
    "duration": 24148,
    "start_time": "2024-11-19T11:52:22.838Z"
   },
   {
    "duration": 2811,
    "start_time": "2024-11-19T11:52:46.989Z"
   },
   {
    "duration": 1793,
    "start_time": "2024-11-19T11:52:49.802Z"
   },
   {
    "duration": 3,
    "start_time": "2024-11-19T11:52:51.597Z"
   },
   {
    "duration": 2963,
    "start_time": "2024-11-19T11:52:51.602Z"
   },
   {
    "duration": 573,
    "start_time": "2024-11-19T11:52:54.566Z"
   },
   {
    "duration": 123,
    "start_time": "2024-11-19T11:52:55.141Z"
   },
   {
    "duration": 307,
    "start_time": "2024-11-19T11:52:55.266Z"
   },
   {
    "duration": 595,
    "start_time": "2024-11-19T11:52:55.575Z"
   },
   {
    "duration": 113,
    "start_time": "2024-11-19T11:52:56.171Z"
   },
   {
    "duration": 494,
    "start_time": "2024-11-19T11:52:56.285Z"
   },
   {
    "duration": 5,
    "start_time": "2024-11-19T11:52:56.780Z"
   },
   {
    "duration": 357,
    "start_time": "2024-11-19T11:52:56.787Z"
   },
   {
    "duration": 33,
    "start_time": "2024-11-19T11:52:57.147Z"
   },
   {
    "duration": 11,
    "start_time": "2024-11-19T11:52:57.181Z"
   },
   {
    "duration": 4,
    "start_time": "2024-11-19T11:52:57.193Z"
   },
   {
    "duration": 44,
    "start_time": "2024-11-19T11:52:57.198Z"
   },
   {
    "duration": 37,
    "start_time": "2024-11-19T11:52:57.244Z"
   },
   {
    "duration": 355,
    "start_time": "2024-11-19T11:52:57.283Z"
   },
   {
    "duration": 27,
    "start_time": "2024-11-19T11:52:57.640Z"
   },
   {
    "duration": 483,
    "start_time": "2024-11-19T11:52:57.669Z"
   },
   {
    "duration": 342,
    "start_time": "2024-11-19T11:52:58.154Z"
   },
   {
    "duration": 295,
    "start_time": "2024-11-19T11:52:58.497Z"
   },
   {
    "duration": 299,
    "start_time": "2024-11-19T11:52:58.794Z"
   },
   {
    "duration": 28,
    "start_time": "2024-11-19T11:52:59.094Z"
   },
   {
    "duration": 40,
    "start_time": "2024-11-19T11:52:59.123Z"
   },
   {
    "duration": 31,
    "start_time": "2024-11-19T11:56:15.034Z"
   },
   {
    "duration": 495,
    "start_time": "2024-11-19T11:56:46.812Z"
   },
   {
    "duration": 563,
    "start_time": "2024-11-19T11:56:56.033Z"
   },
   {
    "duration": 149,
    "start_time": "2024-11-19T11:58:41.090Z"
   },
   {
    "duration": 442,
    "start_time": "2024-11-19T11:58:51.101Z"
   },
   {
    "duration": 51,
    "start_time": "2024-11-19T11:59:08.626Z"
   },
   {
    "duration": 26,
    "start_time": "2024-11-19T12:03:56.873Z"
   },
   {
    "duration": 8,
    "start_time": "2024-11-19T12:06:03.901Z"
   },
   {
    "duration": 393,
    "start_time": "2024-11-19T12:06:11.146Z"
   },
   {
    "duration": 365,
    "start_time": "2024-11-19T12:06:21.219Z"
   },
   {
    "duration": 310,
    "start_time": "2024-11-19T12:11:41.425Z"
   },
   {
    "duration": 8,
    "start_time": "2024-11-19T12:12:17.334Z"
   },
   {
    "duration": 43,
    "start_time": "2024-11-19T12:13:43.633Z"
   },
   {
    "duration": 48,
    "start_time": "2024-11-19T12:15:09.209Z"
   },
   {
    "duration": 9,
    "start_time": "2024-11-19T12:16:08.824Z"
   },
   {
    "duration": 87,
    "start_time": "2024-11-19T12:16:23.918Z"
   },
   {
    "duration": 8,
    "start_time": "2024-11-19T12:17:15.658Z"
   },
   {
    "duration": 21,
    "start_time": "2024-11-19T12:17:28.215Z"
   },
   {
    "duration": 255,
    "start_time": "2024-11-19T12:19:04.239Z"
   },
   {
    "duration": 288,
    "start_time": "2024-11-19T12:19:13.321Z"
   },
   {
    "duration": 346,
    "start_time": "2024-11-19T12:19:35.691Z"
   },
   {
    "duration": 360,
    "start_time": "2024-11-19T12:20:44.977Z"
   },
   {
    "duration": 388,
    "start_time": "2024-11-19T12:20:53.257Z"
   },
   {
    "duration": 10,
    "start_time": "2024-11-19T12:26:36.484Z"
   },
   {
    "duration": 93,
    "start_time": "2024-11-19T12:27:01.096Z"
   },
   {
    "duration": 3727,
    "start_time": "2024-11-19T12:27:06.630Z"
   },
   {
    "duration": 3650,
    "start_time": "2024-11-19T12:28:18.550Z"
   },
   {
    "duration": 11955,
    "start_time": "2024-11-19T12:30:59.555Z"
   },
   {
    "duration": 2957,
    "start_time": "2024-11-19T12:31:11.512Z"
   },
   {
    "duration": 1670,
    "start_time": "2024-11-19T12:31:14.471Z"
   },
   {
    "duration": 54,
    "start_time": "2024-11-19T12:31:16.146Z"
   },
   {
    "duration": 3,
    "start_time": "2024-11-19T12:31:16.202Z"
   },
   {
    "duration": 851,
    "start_time": "2024-11-19T12:31:16.207Z"
   },
   {
    "duration": 607,
    "start_time": "2024-11-19T12:31:17.060Z"
   },
   {
    "duration": 156,
    "start_time": "2024-11-19T12:31:17.669Z"
   },
   {
    "duration": 59,
    "start_time": "2024-11-19T12:31:17.826Z"
   },
   {
    "duration": 264,
    "start_time": "2024-11-19T12:31:17.887Z"
   },
   {
    "duration": 615,
    "start_time": "2024-11-19T12:31:18.152Z"
   },
   {
    "duration": 126,
    "start_time": "2024-11-19T12:31:18.769Z"
   },
   {
    "duration": 482,
    "start_time": "2024-11-19T12:31:18.896Z"
   },
   {
    "duration": 7,
    "start_time": "2024-11-19T12:31:19.383Z"
   },
   {
    "duration": 349,
    "start_time": "2024-11-19T12:31:19.392Z"
   },
   {
    "duration": 29,
    "start_time": "2024-11-19T12:31:19.744Z"
   },
   {
    "duration": 15,
    "start_time": "2024-11-19T12:31:19.774Z"
   },
   {
    "duration": 5,
    "start_time": "2024-11-19T12:31:19.790Z"
   },
   {
    "duration": 67,
    "start_time": "2024-11-19T12:31:19.796Z"
   },
   {
    "duration": 55,
    "start_time": "2024-11-19T12:31:19.865Z"
   },
   {
    "duration": 418,
    "start_time": "2024-11-19T12:31:19.923Z"
   },
   {
    "duration": 28,
    "start_time": "2024-11-19T12:31:20.343Z"
   },
   {
    "duration": 478,
    "start_time": "2024-11-19T12:31:20.373Z"
   },
   {
    "duration": 397,
    "start_time": "2024-11-19T12:31:20.853Z"
   },
   {
    "duration": 276,
    "start_time": "2024-11-19T12:31:21.251Z"
   },
   {
    "duration": 293,
    "start_time": "2024-11-19T12:31:21.528Z"
   },
   {
    "duration": 14,
    "start_time": "2024-11-19T12:31:21.822Z"
   },
   {
    "duration": 34,
    "start_time": "2024-11-19T12:31:21.838Z"
   },
   {
    "duration": 31,
    "start_time": "2024-11-19T12:31:21.873Z"
   },
   {
    "duration": 37,
    "start_time": "2024-11-19T12:31:21.918Z"
   },
   {
    "duration": 489,
    "start_time": "2024-11-19T12:31:21.956Z"
   },
   {
    "duration": 8,
    "start_time": "2024-11-19T12:31:22.449Z"
   },
   {
    "duration": 44,
    "start_time": "2024-11-19T12:31:22.458Z"
   },
   {
    "duration": 21,
    "start_time": "2024-11-19T12:31:22.504Z"
   },
   {
    "duration": 347,
    "start_time": "2024-11-19T12:31:22.531Z"
   },
   {
    "duration": 3941,
    "start_time": "2024-11-19T12:31:22.880Z"
   },
   {
    "duration": 11546,
    "start_time": "2024-11-19T12:39:10.994Z"
   },
   {
    "duration": 2887,
    "start_time": "2024-11-19T12:39:22.543Z"
   },
   {
    "duration": 1590,
    "start_time": "2024-11-19T12:39:25.431Z"
   },
   {
    "duration": 64,
    "start_time": "2024-11-19T12:39:27.029Z"
   },
   {
    "duration": 3,
    "start_time": "2024-11-19T12:39:27.100Z"
   },
   {
    "duration": 837,
    "start_time": "2024-11-19T12:39:27.105Z"
   },
   {
    "duration": 550,
    "start_time": "2024-11-19T12:39:27.943Z"
   },
   {
    "duration": 140,
    "start_time": "2024-11-19T12:39:28.494Z"
   },
   {
    "duration": 915,
    "start_time": "2024-11-19T12:39:28.636Z"
   },
   {
    "duration": 137,
    "start_time": "2024-11-19T12:39:29.554Z"
   },
   {
    "duration": 11587,
    "start_time": "2024-11-19T12:44:12.807Z"
   },
   {
    "duration": 2939,
    "start_time": "2024-11-19T12:44:24.396Z"
   },
   {
    "duration": 2140,
    "start_time": "2024-11-19T12:44:27.337Z"
   },
   {
    "duration": 65,
    "start_time": "2024-11-19T12:44:29.479Z"
   },
   {
    "duration": 3,
    "start_time": "2024-11-19T12:44:29.546Z"
   },
   {
    "duration": 2982,
    "start_time": "2024-11-19T12:44:29.550Z"
   },
   {
    "duration": 552,
    "start_time": "2024-11-19T12:44:32.534Z"
   },
   {
    "duration": 147,
    "start_time": "2024-11-19T12:44:33.088Z"
   },
   {
    "duration": 900,
    "start_time": "2024-11-19T12:44:33.237Z"
   },
   {
    "duration": 134,
    "start_time": "2024-11-19T12:44:34.139Z"
   },
   {
    "duration": 54,
    "start_time": "2024-11-19T12:48:54.874Z"
   },
   {
    "duration": 5,
    "start_time": "2024-11-19T12:48:59.782Z"
   },
   {
    "duration": 5,
    "start_time": "2024-11-19T12:49:13.689Z"
   },
   {
    "duration": 6,
    "start_time": "2024-11-19T12:49:21.262Z"
   },
   {
    "duration": 11887,
    "start_time": "2024-11-19T12:49:27.553Z"
   },
   {
    "duration": 2851,
    "start_time": "2024-11-19T12:49:39.442Z"
   },
   {
    "duration": 2146,
    "start_time": "2024-11-19T12:49:42.294Z"
   },
   {
    "duration": 65,
    "start_time": "2024-11-19T12:49:44.442Z"
   },
   {
    "duration": 5,
    "start_time": "2024-11-19T12:49:44.508Z"
   },
   {
    "duration": 2977,
    "start_time": "2024-11-19T12:49:44.530Z"
   },
   {
    "duration": 573,
    "start_time": "2024-11-19T12:49:47.508Z"
   },
   {
    "duration": 119,
    "start_time": "2024-11-19T12:49:48.082Z"
   },
   {
    "duration": 874,
    "start_time": "2024-11-19T12:49:48.202Z"
   },
   {
    "duration": 168,
    "start_time": "2024-11-19T12:49:49.078Z"
   },
   {
    "duration": 13,
    "start_time": "2024-11-19T12:49:49.430Z"
   },
   {
    "duration": 217,
    "start_time": "2024-11-19T12:52:39.836Z"
   },
   {
    "duration": 123,
    "start_time": "2024-11-19T12:52:48.222Z"
   },
   {
    "duration": 84,
    "start_time": "2024-11-19T12:54:18.496Z"
   },
   {
    "duration": 29,
    "start_time": "2024-11-19T12:54:23.006Z"
   },
   {
    "duration": 21,
    "start_time": "2024-11-19T12:54:26.221Z"
   },
   {
    "duration": 11598,
    "start_time": "2024-11-19T12:55:30.984Z"
   },
   {
    "duration": 2926,
    "start_time": "2024-11-19T12:55:42.584Z"
   },
   {
    "duration": 1620,
    "start_time": "2024-11-19T12:55:45.512Z"
   },
   {
    "duration": 60,
    "start_time": "2024-11-19T12:55:47.134Z"
   },
   {
    "duration": 3,
    "start_time": "2024-11-19T12:55:47.196Z"
   },
   {
    "duration": 835,
    "start_time": "2024-11-19T12:55:47.200Z"
   },
   {
    "duration": 553,
    "start_time": "2024-11-19T12:55:48.038Z"
   },
   {
    "duration": 145,
    "start_time": "2024-11-19T12:55:48.592Z"
   },
   {
    "duration": 911,
    "start_time": "2024-11-19T12:55:48.739Z"
   },
   {
    "duration": 387,
    "start_time": "2024-11-19T12:55:49.652Z"
   },
   {
    "duration": 150,
    "start_time": "2024-11-19T12:55:50.040Z"
   },
   {
    "duration": 495,
    "start_time": "2024-11-19T12:55:50.192Z"
   },
   {
    "duration": 6,
    "start_time": "2024-11-19T12:55:50.689Z"
   },
   {
    "duration": 349,
    "start_time": "2024-11-19T12:55:50.698Z"
   },
   {
    "duration": 30,
    "start_time": "2024-11-19T12:55:51.048Z"
   },
   {
    "duration": 13,
    "start_time": "2024-11-19T12:55:51.080Z"
   },
   {
    "duration": 3,
    "start_time": "2024-11-19T12:55:51.094Z"
   },
   {
    "duration": 50,
    "start_time": "2024-11-19T12:55:51.118Z"
   },
   {
    "duration": 63,
    "start_time": "2024-11-19T12:55:51.169Z"
   },
   {
    "duration": 397,
    "start_time": "2024-11-19T12:55:51.236Z"
   },
   {
    "duration": 30,
    "start_time": "2024-11-19T12:55:51.634Z"
   },
   {
    "duration": 479,
    "start_time": "2024-11-19T12:55:51.665Z"
   },
   {
    "duration": 387,
    "start_time": "2024-11-19T12:55:52.146Z"
   },
   {
    "duration": 270,
    "start_time": "2024-11-19T12:55:52.536Z"
   },
   {
    "duration": 313,
    "start_time": "2024-11-19T12:55:52.807Z"
   },
   {
    "duration": 9,
    "start_time": "2024-11-19T12:55:53.126Z"
   },
   {
    "duration": 37,
    "start_time": "2024-11-19T12:55:53.137Z"
   },
   {
    "duration": 52,
    "start_time": "2024-11-19T12:55:53.176Z"
   },
   {
    "duration": 41,
    "start_time": "2024-11-19T12:55:53.238Z"
   },
   {
    "duration": 406,
    "start_time": "2024-11-19T12:55:53.281Z"
   },
   {
    "duration": 7,
    "start_time": "2024-11-19T12:55:53.688Z"
   },
   {
    "duration": 67,
    "start_time": "2024-11-19T12:55:53.696Z"
   },
   {
    "duration": 6,
    "start_time": "2024-11-19T12:55:53.765Z"
   },
   {
    "duration": 373,
    "start_time": "2024-11-19T12:55:53.773Z"
   },
   {
    "duration": 189,
    "start_time": "2024-11-19T12:55:54.147Z"
   },
   {
    "duration": 285,
    "start_time": "2024-11-19T13:07:11.167Z"
   },
   {
    "duration": 278,
    "start_time": "2024-11-19T13:07:35.259Z"
   },
   {
    "duration": 199,
    "start_time": "2024-11-19T13:08:25.360Z"
   },
   {
    "duration": 11510,
    "start_time": "2024-11-19T13:52:45.293Z"
   },
   {
    "duration": 2859,
    "start_time": "2024-11-19T13:52:56.805Z"
   },
   {
    "duration": 2490,
    "start_time": "2024-11-19T13:52:59.666Z"
   },
   {
    "duration": 52,
    "start_time": "2024-11-19T13:53:02.158Z"
   },
   {
    "duration": 3,
    "start_time": "2024-11-19T13:53:02.211Z"
   },
   {
    "duration": 3051,
    "start_time": "2024-11-19T13:53:02.215Z"
   },
   {
    "duration": 574,
    "start_time": "2024-11-19T13:53:05.268Z"
   },
   {
    "duration": 121,
    "start_time": "2024-11-19T13:53:05.844Z"
   },
   {
    "duration": 912,
    "start_time": "2024-11-19T13:53:05.966Z"
   },
   {
    "duration": 426,
    "start_time": "2024-11-19T13:53:06.880Z"
   },
   {
    "duration": 140,
    "start_time": "2024-11-19T13:53:07.311Z"
   },
   {
    "duration": 523,
    "start_time": "2024-11-19T13:53:07.452Z"
   },
   {
    "duration": 5,
    "start_time": "2024-11-19T13:53:07.977Z"
   },
   {
    "duration": 353,
    "start_time": "2024-11-19T13:53:07.983Z"
   },
   {
    "duration": 29,
    "start_time": "2024-11-19T13:53:08.338Z"
   },
   {
    "duration": 19,
    "start_time": "2024-11-19T13:53:08.368Z"
   },
   {
    "duration": 4,
    "start_time": "2024-11-19T13:53:08.388Z"
   },
   {
    "duration": 46,
    "start_time": "2024-11-19T13:53:08.393Z"
   },
   {
    "duration": 44,
    "start_time": "2024-11-19T13:53:08.441Z"
   },
   {
    "duration": 366,
    "start_time": "2024-11-19T13:53:08.486Z"
   },
   {
    "duration": 27,
    "start_time": "2024-11-19T13:53:08.854Z"
   },
   {
    "duration": 469,
    "start_time": "2024-11-19T13:53:08.882Z"
   },
   {
    "duration": 376,
    "start_time": "2024-11-19T13:53:09.353Z"
   },
   {
    "duration": 275,
    "start_time": "2024-11-19T13:53:09.731Z"
   },
   {
    "duration": 316,
    "start_time": "2024-11-19T13:53:10.008Z"
   },
   {
    "duration": 13,
    "start_time": "2024-11-19T13:53:10.329Z"
   },
   {
    "duration": 28,
    "start_time": "2024-11-19T13:53:10.344Z"
   },
   {
    "duration": 58,
    "start_time": "2024-11-19T13:53:10.375Z"
   },
   {
    "duration": 28,
    "start_time": "2024-11-19T13:53:10.434Z"
   },
   {
    "duration": 405,
    "start_time": "2024-11-19T13:53:10.463Z"
   },
   {
    "duration": 7,
    "start_time": "2024-11-19T13:53:10.869Z"
   },
   {
    "duration": 58,
    "start_time": "2024-11-19T13:53:10.877Z"
   },
   {
    "duration": 8,
    "start_time": "2024-11-19T13:53:10.949Z"
   },
   {
    "duration": 352,
    "start_time": "2024-11-19T13:53:10.958Z"
   },
   {
    "duration": 46,
    "start_time": "2024-11-19T14:13:24.056Z"
   },
   {
    "duration": 11676,
    "start_time": "2024-11-19T14:27:28.095Z"
   },
   {
    "duration": 2875,
    "start_time": "2024-11-19T14:27:39.773Z"
   },
   {
    "duration": 2449,
    "start_time": "2024-11-19T14:27:42.650Z"
   },
   {
    "duration": 83,
    "start_time": "2024-11-19T14:27:45.101Z"
   },
   {
    "duration": 7,
    "start_time": "2024-11-19T14:27:45.186Z"
   },
   {
    "duration": 3052,
    "start_time": "2024-11-19T14:27:45.194Z"
   },
   {
    "duration": 541,
    "start_time": "2024-11-19T14:27:48.248Z"
   },
   {
    "duration": 142,
    "start_time": "2024-11-19T14:27:48.790Z"
   },
   {
    "duration": 847,
    "start_time": "2024-11-19T14:27:48.933Z"
   },
   {
    "duration": 384,
    "start_time": "2024-11-19T14:27:49.783Z"
   },
   {
    "duration": 162,
    "start_time": "2024-11-19T14:27:50.168Z"
   },
   {
    "duration": 551,
    "start_time": "2024-11-19T14:27:50.332Z"
   },
   {
    "duration": 6,
    "start_time": "2024-11-19T14:27:50.885Z"
   },
   {
    "duration": 384,
    "start_time": "2024-11-19T14:27:50.892Z"
   },
   {
    "duration": 52,
    "start_time": "2024-11-19T14:27:51.277Z"
   },
   {
    "duration": 18,
    "start_time": "2024-11-19T14:27:51.330Z"
   },
   {
    "duration": 14,
    "start_time": "2024-11-19T14:27:51.349Z"
   },
   {
    "duration": 36,
    "start_time": "2024-11-19T14:27:51.364Z"
   },
   {
    "duration": 52,
    "start_time": "2024-11-19T14:27:51.401Z"
   },
   {
    "duration": 312,
    "start_time": "2024-11-19T14:27:51.454Z"
   },
   {
    "duration": 26,
    "start_time": "2024-11-19T14:27:51.767Z"
   },
   {
    "duration": 455,
    "start_time": "2024-11-19T14:27:51.794Z"
   },
   {
    "duration": 423,
    "start_time": "2024-11-19T14:27:52.251Z"
   },
   {
    "duration": 335,
    "start_time": "2024-11-19T14:27:52.676Z"
   },
   {
    "duration": 289,
    "start_time": "2024-11-19T14:27:53.019Z"
   },
   {
    "duration": 14,
    "start_time": "2024-11-19T14:27:53.323Z"
   },
   {
    "duration": 29,
    "start_time": "2024-11-19T14:27:53.338Z"
   },
   {
    "duration": 28,
    "start_time": "2024-11-19T14:27:53.370Z"
   },
   {
    "duration": 44,
    "start_time": "2024-11-19T14:27:53.399Z"
   },
   {
    "duration": 410,
    "start_time": "2024-11-19T14:27:53.445Z"
   },
   {
    "duration": 7,
    "start_time": "2024-11-19T14:27:53.856Z"
   },
   {
    "duration": 28,
    "start_time": "2024-11-19T14:27:53.864Z"
   },
   {
    "duration": 9,
    "start_time": "2024-11-19T14:27:53.912Z"
   },
   {
    "duration": 346,
    "start_time": "2024-11-19T14:27:53.922Z"
   },
   {
    "duration": 2,
    "start_time": "2024-11-19T14:27:54.270Z"
   },
   {
    "duration": 155,
    "start_time": "2024-11-19T14:27:54.274Z"
   },
   {
    "duration": 0,
    "start_time": "2024-11-19T14:27:54.431Z"
   },
   {
    "duration": 0,
    "start_time": "2024-11-19T14:27:54.432Z"
   },
   {
    "duration": 0,
    "start_time": "2024-11-19T14:27:54.434Z"
   },
   {
    "duration": 0,
    "start_time": "2024-11-19T14:27:54.435Z"
   },
   {
    "duration": 0,
    "start_time": "2024-11-19T14:27:54.435Z"
   },
   {
    "duration": 99,
    "start_time": "2024-11-19T14:29:04.378Z"
   },
   {
    "duration": 13,
    "start_time": "2024-11-19T14:29:05.193Z"
   },
   {
    "duration": 11787,
    "start_time": "2024-11-19T14:30:29.145Z"
   },
   {
    "duration": 2908,
    "start_time": "2024-11-19T14:30:40.935Z"
   },
   {
    "duration": 1788,
    "start_time": "2024-11-19T14:30:43.845Z"
   },
   {
    "duration": 3,
    "start_time": "2024-11-19T14:30:45.635Z"
   },
   {
    "duration": 860,
    "start_time": "2024-11-19T14:30:45.639Z"
   },
   {
    "duration": 641,
    "start_time": "2024-11-19T14:30:46.501Z"
   },
   {
    "duration": 146,
    "start_time": "2024-11-19T14:30:47.145Z"
   },
   {
    "duration": 969,
    "start_time": "2024-11-19T14:30:47.293Z"
   },
   {
    "duration": 407,
    "start_time": "2024-11-19T14:30:48.263Z"
   },
   {
    "duration": 152,
    "start_time": "2024-11-19T14:30:48.672Z"
   },
   {
    "duration": 543,
    "start_time": "2024-11-19T14:30:48.825Z"
   },
   {
    "duration": 5,
    "start_time": "2024-11-19T14:30:49.370Z"
   },
   {
    "duration": 370,
    "start_time": "2024-11-19T14:30:49.377Z"
   },
   {
    "duration": 30,
    "start_time": "2024-11-19T14:30:49.748Z"
   },
   {
    "duration": 18,
    "start_time": "2024-11-19T14:30:49.779Z"
   },
   {
    "duration": 4,
    "start_time": "2024-11-19T14:30:49.798Z"
   },
   {
    "duration": 53,
    "start_time": "2024-11-19T14:30:49.803Z"
   },
   {
    "duration": 47,
    "start_time": "2024-11-19T14:30:49.858Z"
   },
   {
    "duration": 329,
    "start_time": "2024-11-19T14:30:49.912Z"
   },
   {
    "duration": 36,
    "start_time": "2024-11-19T14:30:50.243Z"
   },
   {
    "duration": 475,
    "start_time": "2024-11-19T14:30:50.281Z"
   },
   {
    "duration": 373,
    "start_time": "2024-11-19T14:30:50.758Z"
   },
   {
    "duration": 295,
    "start_time": "2024-11-19T14:30:51.138Z"
   },
   {
    "duration": 271,
    "start_time": "2024-11-19T14:30:51.434Z"
   },
   {
    "duration": 26,
    "start_time": "2024-11-19T14:30:51.706Z"
   },
   {
    "duration": 54,
    "start_time": "2024-11-19T14:30:51.734Z"
   },
   {
    "duration": 50,
    "start_time": "2024-11-19T14:30:51.789Z"
   },
   {
    "duration": 29,
    "start_time": "2024-11-19T14:30:51.844Z"
   },
   {
    "duration": 408,
    "start_time": "2024-11-19T14:30:51.875Z"
   },
   {
    "duration": 6,
    "start_time": "2024-11-19T14:30:52.285Z"
   },
   {
    "duration": 53,
    "start_time": "2024-11-19T14:30:52.292Z"
   },
   {
    "duration": 7,
    "start_time": "2024-11-19T14:30:52.346Z"
   },
   {
    "duration": 367,
    "start_time": "2024-11-19T14:30:52.354Z"
   },
   {
    "duration": 3,
    "start_time": "2024-11-19T14:30:52.735Z"
   },
   {
    "duration": 100,
    "start_time": "2024-11-19T14:30:52.739Z"
   },
   {
    "duration": 3066,
    "start_time": "2024-11-19T14:30:52.841Z"
   },
   {
    "duration": 0,
    "start_time": "2024-11-19T14:30:55.909Z"
   },
   {
    "duration": 0,
    "start_time": "2024-11-19T14:30:55.910Z"
   },
   {
    "duration": 0,
    "start_time": "2024-11-19T14:30:55.917Z"
   },
   {
    "duration": 0,
    "start_time": "2024-11-19T14:30:55.918Z"
   },
   {
    "duration": 23955,
    "start_time": "2024-11-19T18:40:20.175Z"
   },
   {
    "duration": 2683,
    "start_time": "2024-11-19T18:40:44.133Z"
   },
   {
    "duration": 2184,
    "start_time": "2024-11-19T18:40:46.817Z"
   },
   {
    "duration": 3,
    "start_time": "2024-11-19T18:40:49.003Z"
   },
   {
    "duration": 3184,
    "start_time": "2024-11-19T18:40:49.008Z"
   },
   {
    "duration": 720,
    "start_time": "2024-11-19T18:40:52.194Z"
   },
   {
    "duration": 142,
    "start_time": "2024-11-19T18:40:52.921Z"
   },
   {
    "duration": 1176,
    "start_time": "2024-11-19T18:40:53.065Z"
   },
   {
    "duration": 410,
    "start_time": "2024-11-19T18:40:54.242Z"
   },
   {
    "duration": 159,
    "start_time": "2024-11-19T18:40:54.654Z"
   },
   {
    "duration": 552,
    "start_time": "2024-11-19T18:40:54.815Z"
   },
   {
    "duration": 7,
    "start_time": "2024-11-19T18:40:55.369Z"
   },
   {
    "duration": 396,
    "start_time": "2024-11-19T18:40:55.378Z"
   },
   {
    "duration": 49,
    "start_time": "2024-11-19T18:40:55.779Z"
   },
   {
    "duration": 30,
    "start_time": "2024-11-19T18:40:55.830Z"
   },
   {
    "duration": 6,
    "start_time": "2024-11-19T18:40:55.861Z"
   },
   {
    "duration": 60,
    "start_time": "2024-11-19T18:40:55.869Z"
   },
   {
    "duration": 48,
    "start_time": "2024-11-19T18:40:55.930Z"
   },
   {
    "duration": 387,
    "start_time": "2024-11-19T18:40:55.980Z"
   },
   {
    "duration": 38,
    "start_time": "2024-11-19T18:40:56.369Z"
   },
   {
    "duration": 524,
    "start_time": "2024-11-19T18:40:56.421Z"
   },
   {
    "duration": 398,
    "start_time": "2024-11-19T18:40:56.946Z"
   },
   {
    "duration": 292,
    "start_time": "2024-11-19T18:40:57.346Z"
   },
   {
    "duration": 316,
    "start_time": "2024-11-19T18:40:57.639Z"
   },
   {
    "duration": 8,
    "start_time": "2024-11-19T18:40:57.956Z"
   },
   {
    "duration": 56,
    "start_time": "2024-11-19T18:40:57.966Z"
   },
   {
    "duration": 40,
    "start_time": "2024-11-19T18:40:58.024Z"
   },
   {
    "duration": 42,
    "start_time": "2024-11-19T18:40:58.066Z"
   },
   {
    "duration": 481,
    "start_time": "2024-11-19T18:40:58.110Z"
   },
   {
    "duration": 8,
    "start_time": "2024-11-19T18:40:58.593Z"
   },
   {
    "duration": 44,
    "start_time": "2024-11-19T18:40:58.603Z"
   },
   {
    "duration": 7,
    "start_time": "2024-11-19T18:40:58.649Z"
   },
   {
    "duration": 506,
    "start_time": "2024-11-19T18:40:58.658Z"
   },
   {
    "duration": 2,
    "start_time": "2024-11-19T18:40:59.166Z"
   },
   {
    "duration": 1628,
    "start_time": "2024-11-19T18:40:59.170Z"
   },
   {
    "duration": 204,
    "start_time": "2024-11-19T18:41:00.800Z"
   },
   {
    "duration": 0,
    "start_time": "2024-11-19T18:41:01.006Z"
   },
   {
    "duration": 0,
    "start_time": "2024-11-19T18:41:01.008Z"
   },
   {
    "duration": 0,
    "start_time": "2024-11-19T18:41:01.009Z"
   },
   {
    "duration": 0,
    "start_time": "2024-11-19T18:41:01.010Z"
   },
   {
    "duration": 10686,
    "start_time": "2024-11-19T19:07:07.692Z"
   },
   {
    "duration": 2668,
    "start_time": "2024-11-19T19:07:18.381Z"
   },
   {
    "duration": 1897,
    "start_time": "2024-11-19T19:07:21.051Z"
   },
   {
    "duration": 4,
    "start_time": "2024-11-19T19:07:22.949Z"
   },
   {
    "duration": 985,
    "start_time": "2024-11-19T19:07:22.955Z"
   },
   {
    "duration": 710,
    "start_time": "2024-11-19T19:07:23.942Z"
   },
   {
    "duration": 151,
    "start_time": "2024-11-19T19:07:24.654Z"
   },
   {
    "duration": 1033,
    "start_time": "2024-11-19T19:07:24.807Z"
   },
   {
    "duration": 411,
    "start_time": "2024-11-19T19:07:25.842Z"
   },
   {
    "duration": 147,
    "start_time": "2024-11-19T19:07:26.254Z"
   },
   {
    "duration": 599,
    "start_time": "2024-11-19T19:07:26.403Z"
   },
   {
    "duration": 18,
    "start_time": "2024-11-19T19:07:27.004Z"
   },
   {
    "duration": 355,
    "start_time": "2024-11-19T19:07:27.024Z"
   },
   {
    "duration": 46,
    "start_time": "2024-11-19T19:07:27.383Z"
   },
   {
    "duration": 63,
    "start_time": "2024-11-19T19:07:27.431Z"
   },
   {
    "duration": 4,
    "start_time": "2024-11-19T19:07:27.496Z"
   },
   {
    "duration": 39,
    "start_time": "2024-11-19T19:07:27.502Z"
   },
   {
    "duration": 46,
    "start_time": "2024-11-19T19:07:27.542Z"
   },
   {
    "duration": 365,
    "start_time": "2024-11-19T19:07:27.590Z"
   },
   {
    "duration": 39,
    "start_time": "2024-11-19T19:07:27.957Z"
   },
   {
    "duration": 462,
    "start_time": "2024-11-19T19:07:27.998Z"
   },
   {
    "duration": 393,
    "start_time": "2024-11-19T19:07:28.461Z"
   },
   {
    "duration": 323,
    "start_time": "2024-11-19T19:07:28.855Z"
   },
   {
    "duration": 332,
    "start_time": "2024-11-19T19:07:29.180Z"
   },
   {
    "duration": 7,
    "start_time": "2024-11-19T19:07:29.520Z"
   },
   {
    "duration": 40,
    "start_time": "2024-11-19T19:07:29.529Z"
   },
   {
    "duration": 58,
    "start_time": "2024-11-19T19:07:29.571Z"
   },
   {
    "duration": 112,
    "start_time": "2024-11-19T19:07:29.631Z"
   },
   {
    "duration": 463,
    "start_time": "2024-11-19T19:07:29.745Z"
   },
   {
    "duration": 16,
    "start_time": "2024-11-19T19:07:30.209Z"
   },
   {
    "duration": 77,
    "start_time": "2024-11-19T19:07:30.227Z"
   },
   {
    "duration": 22,
    "start_time": "2024-11-19T19:07:30.306Z"
   },
   {
    "duration": 152,
    "start_time": "2024-11-19T19:07:30.329Z"
   },
   {
    "duration": 0,
    "start_time": "2024-11-19T19:07:30.482Z"
   },
   {
    "duration": 0,
    "start_time": "2024-11-19T19:07:30.484Z"
   },
   {
    "duration": 0,
    "start_time": "2024-11-19T19:07:30.485Z"
   },
   {
    "duration": 0,
    "start_time": "2024-11-19T19:07:30.486Z"
   },
   {
    "duration": 0,
    "start_time": "2024-11-19T19:07:30.487Z"
   },
   {
    "duration": 0,
    "start_time": "2024-11-19T19:07:30.488Z"
   },
   {
    "duration": 0,
    "start_time": "2024-11-19T19:07:30.490Z"
   },
   {
    "duration": 0,
    "start_time": "2024-11-19T19:07:30.491Z"
   },
   {
    "duration": 0,
    "start_time": "2024-11-19T19:07:30.492Z"
   },
   {
    "duration": 69,
    "start_time": "2024-11-19T19:09:44.902Z"
   },
   {
    "duration": 428,
    "start_time": "2024-11-19T19:09:47.748Z"
   },
   {
    "duration": 11032,
    "start_time": "2024-11-19T19:11:54.529Z"
   },
   {
    "duration": 2729,
    "start_time": "2024-11-19T19:12:05.564Z"
   },
   {
    "duration": 2010,
    "start_time": "2024-11-19T19:12:08.295Z"
   },
   {
    "duration": 3,
    "start_time": "2024-11-19T19:12:10.307Z"
   },
   {
    "duration": 973,
    "start_time": "2024-11-19T19:12:10.313Z"
   },
   {
    "duration": 723,
    "start_time": "2024-11-19T19:12:11.288Z"
   },
   {
    "duration": 171,
    "start_time": "2024-11-19T19:12:12.013Z"
   },
   {
    "duration": 1049,
    "start_time": "2024-11-19T19:12:12.186Z"
   },
   {
    "duration": 457,
    "start_time": "2024-11-19T19:12:13.236Z"
   },
   {
    "duration": 169,
    "start_time": "2024-11-19T19:12:13.695Z"
   },
   {
    "duration": 637,
    "start_time": "2024-11-19T19:12:13.866Z"
   },
   {
    "duration": 18,
    "start_time": "2024-11-19T19:12:14.505Z"
   },
   {
    "duration": 353,
    "start_time": "2024-11-19T19:12:14.524Z"
   },
   {
    "duration": 61,
    "start_time": "2024-11-19T19:12:14.882Z"
   },
   {
    "duration": 54,
    "start_time": "2024-11-19T19:12:14.946Z"
   },
   {
    "duration": 64,
    "start_time": "2024-11-19T19:12:15.002Z"
   },
   {
    "duration": 123,
    "start_time": "2024-11-19T19:12:15.068Z"
   },
   {
    "duration": 80,
    "start_time": "2024-11-19T19:12:15.193Z"
   },
   {
    "duration": 388,
    "start_time": "2024-11-19T19:12:15.275Z"
   },
   {
    "duration": 39,
    "start_time": "2024-11-19T19:12:15.665Z"
   },
   {
    "duration": 532,
    "start_time": "2024-11-19T19:12:15.706Z"
   },
   {
    "duration": 436,
    "start_time": "2024-11-19T19:12:16.240Z"
   },
   {
    "duration": 358,
    "start_time": "2024-11-19T19:12:16.678Z"
   },
   {
    "duration": 298,
    "start_time": "2024-11-19T19:12:17.037Z"
   },
   {
    "duration": 8,
    "start_time": "2024-11-19T19:12:17.337Z"
   },
   {
    "duration": 40,
    "start_time": "2024-11-19T19:12:17.346Z"
   },
   {
    "duration": 155,
    "start_time": "2024-11-19T19:12:17.387Z"
   },
   {
    "duration": 41,
    "start_time": "2024-11-19T19:12:17.544Z"
   },
   {
    "duration": 444,
    "start_time": "2024-11-19T19:12:17.586Z"
   },
   {
    "duration": 8,
    "start_time": "2024-11-19T19:12:18.032Z"
   },
   {
    "duration": 33,
    "start_time": "2024-11-19T19:12:18.042Z"
   },
   {
    "duration": 10,
    "start_time": "2024-11-19T19:12:18.078Z"
   },
   {
    "duration": 67,
    "start_time": "2024-11-19T19:12:18.120Z"
   },
   {
    "duration": 388,
    "start_time": "2024-11-19T19:12:18.188Z"
   },
   {
    "duration": 2,
    "start_time": "2024-11-19T19:12:18.578Z"
   },
   {
    "duration": 113,
    "start_time": "2024-11-19T19:12:18.582Z"
   },
   {
    "duration": 144,
    "start_time": "2024-11-19T19:12:18.697Z"
   },
   {
    "duration": 0,
    "start_time": "2024-11-19T19:12:18.843Z"
   },
   {
    "duration": 0,
    "start_time": "2024-11-19T19:12:18.844Z"
   },
   {
    "duration": 0,
    "start_time": "2024-11-19T19:12:18.845Z"
   },
   {
    "duration": 0,
    "start_time": "2024-11-19T19:12:18.847Z"
   },
   {
    "duration": 0,
    "start_time": "2024-11-19T19:12:18.848Z"
   },
   {
    "duration": 124,
    "start_time": "2024-11-19T19:12:38.025Z"
   },
   {
    "duration": 1450,
    "start_time": "2024-11-19T19:12:43.090Z"
   },
   {
    "duration": 1956,
    "start_time": "2024-11-19T19:14:13.971Z"
   },
   {
    "duration": 12,
    "start_time": "2024-11-19T19:18:29.735Z"
   },
   {
    "duration": 20,
    "start_time": "2024-11-19T19:19:04.176Z"
   },
   {
    "duration": 10811,
    "start_time": "2024-11-19T19:19:12.401Z"
   },
   {
    "duration": 2695,
    "start_time": "2024-11-19T19:19:23.215Z"
   },
   {
    "duration": 1891,
    "start_time": "2024-11-19T19:19:25.912Z"
   },
   {
    "duration": 3,
    "start_time": "2024-11-19T19:19:27.805Z"
   },
   {
    "duration": 1024,
    "start_time": "2024-11-19T19:19:27.810Z"
   },
   {
    "duration": 706,
    "start_time": "2024-11-19T19:19:28.835Z"
   },
   {
    "duration": 150,
    "start_time": "2024-11-19T19:19:29.543Z"
   },
   {
    "duration": 1026,
    "start_time": "2024-11-19T19:19:29.695Z"
   },
   {
    "duration": 408,
    "start_time": "2024-11-19T19:19:30.723Z"
   },
   {
    "duration": 146,
    "start_time": "2024-11-19T19:19:31.133Z"
   },
   {
    "duration": 610,
    "start_time": "2024-11-19T19:19:31.281Z"
   },
   {
    "duration": 7,
    "start_time": "2024-11-19T19:19:31.892Z"
   },
   {
    "duration": 373,
    "start_time": "2024-11-19T19:19:31.900Z"
   },
   {
    "duration": 48,
    "start_time": "2024-11-19T19:19:32.276Z"
   },
   {
    "duration": 20,
    "start_time": "2024-11-19T19:19:32.325Z"
   },
   {
    "duration": 5,
    "start_time": "2024-11-19T19:19:32.346Z"
   },
   {
    "duration": 54,
    "start_time": "2024-11-19T19:19:32.353Z"
   },
   {
    "duration": 45,
    "start_time": "2024-11-19T19:19:32.409Z"
   },
   {
    "duration": 352,
    "start_time": "2024-11-19T19:19:32.455Z"
   },
   {
    "duration": 40,
    "start_time": "2024-11-19T19:19:32.809Z"
   },
   {
    "duration": 495,
    "start_time": "2024-11-19T19:19:32.850Z"
   },
   {
    "duration": 400,
    "start_time": "2024-11-19T19:19:33.346Z"
   },
   {
    "duration": 321,
    "start_time": "2024-11-19T19:19:33.747Z"
   },
   {
    "duration": 306,
    "start_time": "2024-11-19T19:19:34.070Z"
   },
   {
    "duration": 8,
    "start_time": "2024-11-19T19:19:34.378Z"
   },
   {
    "duration": 104,
    "start_time": "2024-11-19T19:19:34.387Z"
   },
   {
    "duration": 147,
    "start_time": "2024-11-19T19:19:34.493Z"
   },
   {
    "duration": 104,
    "start_time": "2024-11-19T19:19:34.642Z"
   },
   {
    "duration": 547,
    "start_time": "2024-11-19T19:19:34.748Z"
   },
   {
    "duration": 8,
    "start_time": "2024-11-19T19:19:35.297Z"
   },
   {
    "duration": 69,
    "start_time": "2024-11-19T19:19:35.306Z"
   },
   {
    "duration": 12,
    "start_time": "2024-11-19T19:19:35.377Z"
   },
   {
    "duration": 264,
    "start_time": "2024-11-19T19:19:35.390Z"
   },
   {
    "duration": 2206,
    "start_time": "2024-11-19T19:19:35.656Z"
   },
   {
    "duration": 0,
    "start_time": "2024-11-19T19:19:37.865Z"
   },
   {
    "duration": 1,
    "start_time": "2024-11-19T19:19:37.866Z"
   },
   {
    "duration": 0,
    "start_time": "2024-11-19T19:19:37.868Z"
   },
   {
    "duration": 0,
    "start_time": "2024-11-19T19:19:37.870Z"
   },
   {
    "duration": 0,
    "start_time": "2024-11-19T19:19:37.871Z"
   },
   {
    "duration": 0,
    "start_time": "2024-11-19T19:19:37.873Z"
   },
   {
    "duration": 0,
    "start_time": "2024-11-19T19:19:37.874Z"
   },
   {
    "duration": 0,
    "start_time": "2024-11-19T19:19:37.876Z"
   },
   {
    "duration": 0,
    "start_time": "2024-11-19T19:19:37.877Z"
   },
   {
    "duration": 0,
    "start_time": "2024-11-19T19:19:37.878Z"
   },
   {
    "duration": 102,
    "start_time": "2024-11-19T19:24:25.510Z"
   },
   {
    "duration": 11,
    "start_time": "2024-11-19T19:24:25.693Z"
   },
   {
    "duration": 12,
    "start_time": "2024-11-19T19:27:27.584Z"
   },
   {
    "duration": 3,
    "start_time": "2024-11-19T19:27:56.524Z"
   },
   {
    "duration": 3,
    "start_time": "2024-11-19T19:27:56.942Z"
   },
   {
    "duration": 13,
    "start_time": "2024-11-19T19:32:05.539Z"
   },
   {
    "duration": 3,
    "start_time": "2024-11-19T19:32:13.765Z"
   }
  ],
  "kernelspec": {
   "display_name": "Python 3 (ipykernel)",
   "language": "python",
   "name": "python3"
  },
  "language_info": {
   "codemirror_mode": {
    "name": "ipython",
    "version": 3
   },
   "file_extension": ".py",
   "mimetype": "text/x-python",
   "name": "python",
   "nbconvert_exporter": "python",
   "pygments_lexer": "ipython3",
   "version": "3.9.5"
  },
  "toc": {
   "base_numbering": 1,
   "nav_menu": {},
   "number_sections": true,
   "sideBar": true,
   "skip_h1_title": true,
   "title_cell": "Table of Contents",
   "title_sidebar": "Contents",
   "toc_cell": false,
   "toc_position": {
    "height": "calc(100% - 180px)",
    "left": "10px",
    "top": "150px",
    "width": "341.333px"
   },
   "toc_section_display": true,
   "toc_window_display": true
  }
 },
 "nbformat": 4,
 "nbformat_minor": 2
}
